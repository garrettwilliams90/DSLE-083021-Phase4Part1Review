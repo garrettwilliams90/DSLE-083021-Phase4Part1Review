{
 "cells": [
  {
   "cell_type": "markdown",
   "metadata": {},
   "source": [
    "# Phase 4 Part 1 Review!\n",
    "\n",
    "\n",
    "1. Recommendation Systems\n",
    "2. Unsupervised Techniques\n",
    "3. Manipulating Time Series Data\n"
   ]
  },
  {
   "cell_type": "markdown",
   "metadata": {},
   "source": [
    "## 1) Recommendation Systems\n",
    "\n",
    "### Three Main Types\n",
    "\n",
    "- non-personalized\n",
    "- content-based\n",
    "- collaborative filtering"
   ]
  },
  {
   "cell_type": "markdown",
   "metadata": {},
   "source": [
    "### Non-Personalized Recommendations\n",
    "\n",
    "<img src=\"images/youtube-nonpersonalizedrecommendations.png\" width=600>\n",
    "\n",
    "YouTube is notorious for putting non-personalized content on their homepage (although they tailor recommendations in other places)\n",
    "\n",
    "These recommendations are based purely on the popularity of the item!\n",
    "\n",
    "#### Advantages\n",
    "- Super easy (computationally and for the user to understand)\n",
    "- Items are usually popular for a reason\n",
    "- No cold-start issue\n",
    "\n",
    "#### Disadvantages\n",
    "- Not personalized\n",
    "- New items won’t gain traction"
   ]
  },
  {
   "cell_type": "markdown",
   "metadata": {},
   "source": [
    "### Content-Based\n",
    "\n",
    "<img src=\"images/spotify-contentrecommendations.png\" width=600>\n",
    "\n",
    "[Image Source](https://www.howtogeek.com/393291/already-a-spotify-fan-here-are-6-new-features-you-might-have-missed/)\n",
    "\n",
    "Content-based recommendations are based on the properties/attributes of the items, where the items you've rated highly (or, in Spotify's case, listened to recently or often) are then compared against the properties/attributes of other items, and those items are then recommended if they're considered 'similar'.\n",
    "\n",
    "What items are 'similar'? Depends on your similarity metric:\n",
    "\n",
    "<img src=\"images/similaritymetrics.png\" width=750>\n",
    "\n",
    "[Image Source: \"What Similarity Metric Should You Use for Your Recommendation System?](https://medium.com/bag-of-words/what-similarity-metric-should-you-use-for-your-recommendation-system-b45eb7e6ebd0) <- useful reading!\n",
    "\n",
    "Those are just 3 examples, there are others (Jaccard index, Euclidian similarity) - but the point is you take some mathematical understanding of the items and find which ones are 'nearby' in some sense.\n",
    "\n",
    "#### Advantages:\n",
    "- Easy and transparent\n",
    "- No cold start issue\n",
    "- Recommend items to users with unique tastes\n",
    "\n",
    "#### Disadvantages:\n",
    "- Requires some type of tagging of items\n",
    "- Overspecialization to certain types of items"
   ]
  },
  {
   "cell_type": "markdown",
   "metadata": {},
   "source": [
    "## Collaborative Filtering\n",
    "\n",
    "![collaborative filtering utility matrix example](images/collaborativefiltering.png)\n",
    "\n",
    "[Image Source](https://www.incubegroup.com/blog/recommender-system-for-private-banking/)\n",
    "\n",
    "Use both User and Item data! Use past behavior of many users (how they've rated many items) to find similarities either between users or between items (either user-based or item-based) to recommend new things.\n",
    "\n",
    "We build a Utility/Rating Matrix to capture many users' ratings of many different items - a matrix that, in practice, tends to be quite _sparse_ (see all the blanks in just this tiny example above).\n",
    "\n",
    "Then, we use **_MATH_** (namely, matrix factorization) to fill in those blanks, based upon similar users' ratings of similar items.\n",
    "\n",
    "More specifically, it finds factor matrices which result in the ratings it has - decomposing the actual Utility Matrix into component pieces that explain it. These component pieces, matrices themselves, can be thought of as 'latent' or 'inherent' features of the items and users! The math then comes in, as we calculate the dot products in order to arrive at our predicted ratings.'\n",
    "\n",
    "<img src=\"images/matrixfactorization.png\" alt=\"matrix factorization image, showing the factor matrices\" width=700>\n",
    "\n",
    "[Image Source](https://medium.com/@connectwithghosh/simple-matrix-factorization-example-on-the-movielens-dataset-using-pyspark-9b7e3f567536)\n",
    "\n",
    "A bit more on Matrix Factorization, from Google's Recommendations Systems crash course: https://developers.google.com/machine-learning/recommendation/collaborative/matrix\n",
    "\n",
    "#### Advantages:\n",
    "- Personalized. You’re special!\n",
    "\n",
    "#### Disadvantages:\n",
    "- Can require a lot of computation, especially as these matrices get larger\n",
    "- Cold start: need to have a lot of ratings to be worthwhile\n",
    "- Popularity Bias: biased towards items that are popular. May not capture people’s unique tastes.\n",
    "\n",
    "Matrix factorization methods include Singular Value Decomposition (SVD) and Alternating Least Squares (ALS)"
   ]
  },
  {
   "cell_type": "markdown",
   "metadata": {},
   "source": [
    "I'll note that there are differences between _explicit_ and _implicit_ ratings.\n",
    "\n",
    "- **_Explicit_** data is gathered from users when we ask a user to rate an item on some scale\n",
    "    - Pros: concrete rating system, can assume users actually feel the way they input and thus can extrapolate from those preferences\n",
    "    - Cons: not all users might input their preferences\n",
    "- **_Implicit_** data is gathered from users without their direct input - a system logs the actions of a user\n",
    "    - Pros: Easier to collect automatically, thus have more data from more users without those users needing to go through extra steps\n",
    "    - Cons: More difficult to work with - how do we know what actions imply preference?\n",
    "    \n",
    "[insert comment about y'all filling out surveys here]\n",
    "\n",
    "[Resource](https://www.cs.carleton.edu/cs_comps/0607/recommend/recommender/collaborativefiltering.html#:~:text=Implicit%20Data%20Collection,system%20has%20to%20collect%20data.&text=Explicit%20data%20gathering%20is%20easy,data%20to%20predict%20future%20ratings.)"
   ]
  },
  {
   "cell_type": "markdown",
   "metadata": {},
   "source": [
    "### And now, in code!\n",
    "\n",
    "#### Data Source:\n",
    "\n",
    "https://www.kaggle.com/rounakbanik/the-movies-dataset"
   ]
  },
  {
   "cell_type": "code",
   "execution_count": 1,
   "metadata": {},
   "outputs": [],
   "source": [
    "# Import libraries, round 1\n",
    "\n",
    "import numpy as np\n",
    "import pandas as pd\n",
    "import matplotlib.pyplot as plt"
   ]
  },
  {
   "cell_type": "code",
   "execution_count": 2,
   "metadata": {},
   "outputs": [
    {
     "name": "stdout",
     "output_type": "stream",
     "text": [
      "(100004, 4)\n"
     ]
    },
    {
     "data": {
      "text/html": [
       "<div>\n",
       "<style scoped>\n",
       "    .dataframe tbody tr th:only-of-type {\n",
       "        vertical-align: middle;\n",
       "    }\n",
       "\n",
       "    .dataframe tbody tr th {\n",
       "        vertical-align: top;\n",
       "    }\n",
       "\n",
       "    .dataframe thead th {\n",
       "        text-align: right;\n",
       "    }\n",
       "</style>\n",
       "<table border=\"1\" class=\"dataframe\">\n",
       "  <thead>\n",
       "    <tr style=\"text-align: right;\">\n",
       "      <th></th>\n",
       "      <th>userId</th>\n",
       "      <th>movieId</th>\n",
       "      <th>rating</th>\n",
       "      <th>timestamp</th>\n",
       "    </tr>\n",
       "  </thead>\n",
       "  <tbody>\n",
       "    <tr>\n",
       "      <th>0</th>\n",
       "      <td>1</td>\n",
       "      <td>31</td>\n",
       "      <td>2.5</td>\n",
       "      <td>1260759144</td>\n",
       "    </tr>\n",
       "    <tr>\n",
       "      <th>1</th>\n",
       "      <td>1</td>\n",
       "      <td>1029</td>\n",
       "      <td>3.0</td>\n",
       "      <td>1260759179</td>\n",
       "    </tr>\n",
       "    <tr>\n",
       "      <th>2</th>\n",
       "      <td>1</td>\n",
       "      <td>1061</td>\n",
       "      <td>3.0</td>\n",
       "      <td>1260759182</td>\n",
       "    </tr>\n",
       "    <tr>\n",
       "      <th>3</th>\n",
       "      <td>1</td>\n",
       "      <td>1129</td>\n",
       "      <td>2.0</td>\n",
       "      <td>1260759185</td>\n",
       "    </tr>\n",
       "    <tr>\n",
       "      <th>4</th>\n",
       "      <td>1</td>\n",
       "      <td>1172</td>\n",
       "      <td>4.0</td>\n",
       "      <td>1260759205</td>\n",
       "    </tr>\n",
       "    <tr>\n",
       "      <th>5</th>\n",
       "      <td>1</td>\n",
       "      <td>1263</td>\n",
       "      <td>2.0</td>\n",
       "      <td>1260759151</td>\n",
       "    </tr>\n",
       "    <tr>\n",
       "      <th>6</th>\n",
       "      <td>1</td>\n",
       "      <td>1287</td>\n",
       "      <td>2.0</td>\n",
       "      <td>1260759187</td>\n",
       "    </tr>\n",
       "    <tr>\n",
       "      <th>7</th>\n",
       "      <td>1</td>\n",
       "      <td>1293</td>\n",
       "      <td>2.0</td>\n",
       "      <td>1260759148</td>\n",
       "    </tr>\n",
       "    <tr>\n",
       "      <th>8</th>\n",
       "      <td>1</td>\n",
       "      <td>1339</td>\n",
       "      <td>3.5</td>\n",
       "      <td>1260759125</td>\n",
       "    </tr>\n",
       "    <tr>\n",
       "      <th>9</th>\n",
       "      <td>1</td>\n",
       "      <td>1343</td>\n",
       "      <td>2.0</td>\n",
       "      <td>1260759131</td>\n",
       "    </tr>\n",
       "  </tbody>\n",
       "</table>\n",
       "</div>"
      ],
      "text/plain": [
       "   userId  movieId  rating   timestamp\n",
       "0       1       31     2.5  1260759144\n",
       "1       1     1029     3.0  1260759179\n",
       "2       1     1061     3.0  1260759182\n",
       "3       1     1129     2.0  1260759185\n",
       "4       1     1172     4.0  1260759205\n",
       "5       1     1263     2.0  1260759151\n",
       "6       1     1287     2.0  1260759187\n",
       "7       1     1293     2.0  1260759148\n",
       "8       1     1339     3.5  1260759125\n",
       "9       1     1343     2.0  1260759131"
      ]
     },
     "execution_count": 2,
     "metadata": {},
     "output_type": "execute_result"
    }
   ],
   "source": [
    "# load in data and check it out\n",
    "rating_df = pd.read_csv('data/ratings.csv') \n",
    "print(rating_df.shape) \n",
    "rating_df.head(10) "
   ]
  },
  {
   "cell_type": "code",
   "execution_count": 3,
   "metadata": {},
   "outputs": [],
   "source": [
    "# Can also get the data straight from the surprise library we'll be using\n",
    "# from surprise import Dataset\n",
    "# data = Dataset.load_builtin('ml-100k')\n",
    "# rating_df = pd.read_csv('~/.surprise_data/ml-100k/ml-100k/u.data',\n",
    "#             sep='\\t', header=None)\n",
    "# rating_df = rating_df.rename(columns={0: 'user', 1: 'item', 2: 'rating', 3: 'timestamp'})"
   ]
  },
  {
   "cell_type": "markdown",
   "metadata": {},
   "source": [
    "### Singular Value Decomposition using Surprise\n",
    "\n",
    "Huge shoutout to my colleague Yish for the bulk of this section's content!\n",
    "\n",
    "One of the easiest libraries to use for recommendation systems is Surprise, which stands for **Simple Python Recommendation System Engine**. Here, we'll code a recommendation system using the Surprise Library's Singular Value Decomposition (SVD) algorithm.\n",
    "\n",
    "To read more about Surprise's SVD implementation, and its hyperparameters:\n",
    "https://surprise.readthedocs.io/en/stable/matrix_factorization.html#surprise.prediction_algorithms.matrix_factorization.SVD"
   ]
  },
  {
   "cell_type": "code",
   "execution_count": 4,
   "metadata": {},
   "outputs": [],
   "source": [
    "# If you need the surprise library\n",
    "# !pip install surprise"
   ]
  },
  {
   "cell_type": "code",
   "execution_count": 5,
   "metadata": {},
   "outputs": [],
   "source": [
    "# Import libraries, round 2\n",
    "from surprise import Dataset, Reader\n",
    "from surprise import SVD\n",
    "from surprise import accuracy\n",
    "from surprise.model_selection import cross_validate, train_test_split"
   ]
  },
  {
   "cell_type": "code",
   "execution_count": 6,
   "metadata": {},
   "outputs": [],
   "source": [
    "# for Surprise, we only need three columns from the dataset\n",
    "data = rating_df[['userId', 'movieId', 'rating']]\n",
    "reader = Reader(line_format='user item rating', sep=',')\n",
    "data = Dataset.load_from_df(data, reader=reader)\n",
    "\n",
    "# train-test-split\n",
    "trainset, testset = train_test_split(data, test_size=.2)"
   ]
  },
  {
   "cell_type": "code",
   "execution_count": 7,
   "metadata": {},
   "outputs": [
    {
     "data": {
      "text/plain": [
       "<surprise.prediction_algorithms.matrix_factorization.SVD at 0x7fa651881880>"
      ]
     },
     "execution_count": 7,
     "metadata": {},
     "output_type": "execute_result"
    }
   ],
   "source": [
    "# instantiate SVD and fit the trainset\n",
    "svd = SVD() # default values\n",
    "svd.fit(trainset)"
   ]
  },
  {
   "cell_type": "code",
   "execution_count": 8,
   "metadata": {},
   "outputs": [
    {
     "name": "stdout",
     "output_type": "stream",
     "text": [
      "RMSE: 0.9065\n"
     ]
    },
    {
     "data": {
      "text/plain": [
       "0.906548057504164"
      ]
     },
     "execution_count": 8,
     "metadata": {},
     "output_type": "execute_result"
    }
   ],
   "source": [
    "predictions = svd.test(testset)\n",
    "accuracy.rmse(predictions)"
   ]
  },
  {
   "cell_type": "markdown",
   "metadata": {},
   "source": [
    "### Making Predictions"
   ]
  },
  {
   "cell_type": "code",
   "execution_count": 9,
   "metadata": {},
   "outputs": [
    {
     "data": {
      "text/plain": [
       "[Prediction(uid=201, iid=8368, r_ui=5.0, est=4.169155874925655, details={'was_impossible': False}),\n",
       " Prediction(uid=432, iid=2959, r_ui=5.0, est=4.908068584279139, details={'was_impossible': False}),\n",
       " Prediction(uid=518, iid=3081, r_ui=4.0, est=3.9626968081123137, details={'was_impossible': False}),\n",
       " Prediction(uid=341, iid=4404, r_ui=1.0, est=3.798572520816769, details={'was_impossible': False}),\n",
       " Prediction(uid=564, iid=2947, r_ui=4.0, est=3.7535045523653183, details={'was_impossible': False}),\n",
       " Prediction(uid=4, iid=3071, r_ui=4.0, est=4.418271949515556, details={'was_impossible': False}),\n",
       " Prediction(uid=468, iid=4980, r_ui=2.5, est=2.7794518349378547, details={'was_impossible': False}),\n",
       " Prediction(uid=157, iid=59814, r_ui=4.5, est=3.278980467908251, details={'was_impossible': False}),\n",
       " Prediction(uid=39, iid=426, r_ui=3.0, est=3.6065629464307825, details={'was_impossible': False}),\n",
       " Prediction(uid=380, iid=96110, r_ui=3.0, est=3.413587793036456, details={'was_impossible': False})]"
      ]
     },
     "execution_count": 9,
     "metadata": {},
     "output_type": "execute_result"
    }
   ],
   "source": [
    "# taking a look at the first 10 rows of our test set\n",
    "predictions[:10]"
   ]
  },
  {
   "cell_type": "code",
   "execution_count": 10,
   "metadata": {
    "scrolled": true
   },
   "outputs": [
    {
     "name": "stdout",
     "output_type": "stream",
     "text": [
      "Number of users:  671\n",
      "Number of movies:  9066\n"
     ]
    }
   ],
   "source": [
    "print(\"Number of users: \", rating_df.userId.nunique()) \n",
    "print(\"Number of movies: \", rating_df.movieId.nunique()) "
   ]
  },
  {
   "cell_type": "code",
   "execution_count": 11,
   "metadata": {},
   "outputs": [
    {
     "data": {
      "text/plain": [
       "Prediction(uid=5, iid=141, r_ui=None, est=3.8950277190475746, details={'was_impossible': False})"
      ]
     },
     "execution_count": 11,
     "metadata": {},
     "output_type": "execute_result"
    }
   ],
   "source": [
    "user = 5\n",
    "item = 141\n",
    "svd.predict(user, item)"
   ]
  },
  {
   "cell_type": "markdown",
   "metadata": {},
   "source": [
    "-----\n",
    "\n",
    "## 2) Unsupervised Learning\n",
    "\n",
    "![unsupervised learning intro image compared to other ml types, from math works](images/machinelearning_unsupervised.png)\n",
    "\n",
    "[Image Source](https://fr.mathworks.com/help/stats/machine-learning-in-matlab.html)"
   ]
  },
  {
   "cell_type": "markdown",
   "metadata": {},
   "source": [
    "## Principal Component Analysis (PCA)\n",
    "\n",
    "#### Type of Learning\n",
    "- Unsupervised\n",
    "\n",
    "#### Assumptions\n",
    "- Correlation among features\n",
    "\n",
    "#### Advantages\n",
    "- Captures most of the variance in a smaller number of features\n",
    "\n",
    "#### Disadvantages\n",
    "- Number of principal components that explain most of the variance are determined by the USER\n",
    "\n",
    "#### Requirements \n",
    "\n",
    "- Features must be scaled (StandardScaler)\n",
    "- Sensitive to missing data.\n",
    "- Sensitive to outliers.\n",
    "\n",
    "#### Example Use\n",
    "- Reducing feature space\n",
    "- Preprocessing\n",
    "- Creating a few, informative variables from tons of data"
   ]
  },
  {
   "cell_type": "markdown",
   "metadata": {},
   "source": [
    "#### Curse of Dimensionality?\n",
    "\n",
    "Reading: [In-Depth Article About the Curse of Dimensionality](https://www.visiondummy.com/2014/04/curse-dimensionality-affect-classification/)\n",
    "\n",
    "| Over-Fitting | Better Fit (but worse results) | \n",
    "| ---- | ---- |\n",
    "| ![overfitting image from the above post](https://www.visiondummy.com/wp-content/uploads/2014/04/overfitting.png) | ![better fit image from the same post](https://www.visiondummy.com/wp-content/uploads/2014/04/no_overfitting.png) |\n"
   ]
  },
  {
   "cell_type": "markdown",
   "metadata": {},
   "source": [
    "#### How does PCA solve this?\n",
    "\n",
    "<img src=\"https://raw.githubusercontent.com/jirvingphd/dsc-pca-in-scikitlearn-online-ds-sp-000/master/images/inhouse_pca.png\">"
   ]
  },
  {
   "cell_type": "markdown",
   "metadata": {},
   "source": [
    "PCA finding the right component direction:\n",
    "\n",
    "<img src=\"https://raw.githubusercontent.com/jirvingphd/dsc-unsupervised-learning-online-ds-pt-100719/master/images/pca.gif\">"
   ]
  },
  {
   "cell_type": "markdown",
   "metadata": {},
   "source": [
    "### ACTIVITY: USING PCA TO COLLAPSE 1800+ HEALTH FEATURES TO 10\n",
    "\n",
    "Huge shoutout to my colleague James for the bulk of this section's content!"
   ]
  },
  {
   "cell_type": "markdown",
   "metadata": {},
   "source": [
    "#### Data\n",
    "- [NHANES Dataset](https://www.kaggle.com/cdc/national-health-and-nutrition-examination-survey)\n",
    "    \n",
    "- [Complete variable list](https://wwwn.cdc.gov/Nchs/Nhanes/Search/variablelist.aspx?Component=Demographics&CycleBeginYear=2013)"
   ]
  },
  {
   "cell_type": "code",
   "execution_count": 12,
   "metadata": {
    "ExecuteTime": {
     "end_time": "2020-10-07T16:43:51.624430Z",
     "start_time": "2020-10-07T16:43:51.621504Z"
    }
   },
   "outputs": [],
   "source": [
    "# Imports round 3!\n",
    "from sklearn.preprocessing import MinMaxScaler,OneHotEncoder\n",
    "from sklearn.impute import SimpleImputer, MissingIndicator\n",
    "from sklearn.pipeline import Pipeline\n",
    "from sklearn.compose import ColumnTransformer\n",
    "from sklearn.decomposition import PCA\n",
    "\n",
    "np.random.seed(123)"
   ]
  },
  {
   "cell_type": "code",
   "execution_count": 13,
   "metadata": {
    "ExecuteTime": {
     "end_time": "2020-10-07T16:44:15.383504Z",
     "start_time": "2020-10-07T16:44:15.379353Z"
    }
   },
   "outputs": [
    {
     "data": {
      "text/plain": [
       "['medications.csv',\n",
       " 'diet.csv',\n",
       " 'examination.csv',\n",
       " 'demographic.csv',\n",
       " 'labs.csv',\n",
       " 'questionnaire.csv']"
      ]
     },
     "execution_count": 13,
     "metadata": {},
     "output_type": "execute_result"
    }
   ],
   "source": [
    "import os, sys\n",
    "\n",
    "# Notebook Folderpath\n",
    "folder = 'data/NHANES/'\n",
    "os.listdir(folder)"
   ]
  },
  {
   "cell_type": "code",
   "execution_count": 14,
   "metadata": {
    "ExecuteTime": {
     "end_time": "2020-10-07T16:44:50.140621Z",
     "start_time": "2020-10-07T16:44:50.135887Z"
    }
   },
   "outputs": [
    {
     "data": {
      "text/plain": [
       "['data/NHANES/medications.csv',\n",
       " 'data/NHANES/diet.csv',\n",
       " 'data/NHANES/examination.csv',\n",
       " 'data/NHANES/demographic.csv',\n",
       " 'data/NHANES/labs.csv',\n",
       " 'data/NHANES/questionnaire.csv']"
      ]
     },
     "execution_count": 14,
     "metadata": {},
     "output_type": "execute_result"
    }
   ],
   "source": [
    "# Use glob to get list of csvs\n",
    "import glob\n",
    "files = glob.glob(folder+'*.csv')\n",
    "files"
   ]
  },
  {
   "cell_type": "code",
   "execution_count": 15,
   "metadata": {
    "ExecuteTime": {
     "end_time": "2020-10-07T16:47:19.676003Z",
     "start_time": "2020-10-07T16:47:17.574642Z"
    }
   },
   "outputs": [
    {
     "data": {
      "text/html": [
       "<div>\n",
       "<style scoped>\n",
       "    .dataframe tbody tr th:only-of-type {\n",
       "        vertical-align: middle;\n",
       "    }\n",
       "\n",
       "    .dataframe tbody tr th {\n",
       "        vertical-align: top;\n",
       "    }\n",
       "\n",
       "    .dataframe thead th {\n",
       "        text-align: right;\n",
       "    }\n",
       "</style>\n",
       "<table border=\"1\" class=\"dataframe\">\n",
       "  <thead>\n",
       "    <tr style=\"text-align: right;\">\n",
       "      <th></th>\n",
       "      <th>WTDRD1</th>\n",
       "      <th>WTDR2D</th>\n",
       "      <th>DR1DRSTZ</th>\n",
       "      <th>DR1EXMER</th>\n",
       "      <th>DRABF</th>\n",
       "      <th>DRDINT</th>\n",
       "      <th>DR1DBIH</th>\n",
       "      <th>DR1DAY</th>\n",
       "      <th>DR1LANG</th>\n",
       "      <th>DR1MNRSP</th>\n",
       "      <th>...</th>\n",
       "      <th>WHD080U</th>\n",
       "      <th>WHD080L</th>\n",
       "      <th>WHD110</th>\n",
       "      <th>WHD120</th>\n",
       "      <th>WHD130</th>\n",
       "      <th>WHD140</th>\n",
       "      <th>WHQ150</th>\n",
       "      <th>WHQ030M</th>\n",
       "      <th>WHQ500</th>\n",
       "      <th>WHQ520</th>\n",
       "    </tr>\n",
       "    <tr>\n",
       "      <th>SEQN</th>\n",
       "      <th></th>\n",
       "      <th></th>\n",
       "      <th></th>\n",
       "      <th></th>\n",
       "      <th></th>\n",
       "      <th></th>\n",
       "      <th></th>\n",
       "      <th></th>\n",
       "      <th></th>\n",
       "      <th></th>\n",
       "      <th></th>\n",
       "      <th></th>\n",
       "      <th></th>\n",
       "      <th></th>\n",
       "      <th></th>\n",
       "      <th></th>\n",
       "      <th></th>\n",
       "      <th></th>\n",
       "      <th></th>\n",
       "      <th></th>\n",
       "      <th></th>\n",
       "    </tr>\n",
       "  </thead>\n",
       "  <tbody>\n",
       "    <tr>\n",
       "      <th>73557</th>\n",
       "      <td>16888.327864</td>\n",
       "      <td>12930.890649</td>\n",
       "      <td>1.0</td>\n",
       "      <td>49.0</td>\n",
       "      <td>2.0</td>\n",
       "      <td>2.0</td>\n",
       "      <td>6.0</td>\n",
       "      <td>2.0</td>\n",
       "      <td>1.0</td>\n",
       "      <td>1.0</td>\n",
       "      <td>...</td>\n",
       "      <td>NaN</td>\n",
       "      <td>40.0</td>\n",
       "      <td>270.0</td>\n",
       "      <td>200.0</td>\n",
       "      <td>69.0</td>\n",
       "      <td>270.0</td>\n",
       "      <td>62.0</td>\n",
       "      <td>NaN</td>\n",
       "      <td>NaN</td>\n",
       "      <td>NaN</td>\n",
       "    </tr>\n",
       "    <tr>\n",
       "      <th>73558</th>\n",
       "      <td>17932.143865</td>\n",
       "      <td>12684.148869</td>\n",
       "      <td>1.0</td>\n",
       "      <td>59.0</td>\n",
       "      <td>2.0</td>\n",
       "      <td>2.0</td>\n",
       "      <td>4.0</td>\n",
       "      <td>1.0</td>\n",
       "      <td>1.0</td>\n",
       "      <td>1.0</td>\n",
       "      <td>...</td>\n",
       "      <td>NaN</td>\n",
       "      <td>NaN</td>\n",
       "      <td>240.0</td>\n",
       "      <td>250.0</td>\n",
       "      <td>72.0</td>\n",
       "      <td>250.0</td>\n",
       "      <td>25.0</td>\n",
       "      <td>NaN</td>\n",
       "      <td>NaN</td>\n",
       "      <td>NaN</td>\n",
       "    </tr>\n",
       "    <tr>\n",
       "      <th>73559</th>\n",
       "      <td>59641.812930</td>\n",
       "      <td>39394.236709</td>\n",
       "      <td>1.0</td>\n",
       "      <td>49.0</td>\n",
       "      <td>2.0</td>\n",
       "      <td>2.0</td>\n",
       "      <td>18.0</td>\n",
       "      <td>6.0</td>\n",
       "      <td>1.0</td>\n",
       "      <td>1.0</td>\n",
       "      <td>...</td>\n",
       "      <td>NaN</td>\n",
       "      <td>NaN</td>\n",
       "      <td>180.0</td>\n",
       "      <td>190.0</td>\n",
       "      <td>70.0</td>\n",
       "      <td>228.0</td>\n",
       "      <td>35.0</td>\n",
       "      <td>NaN</td>\n",
       "      <td>NaN</td>\n",
       "      <td>NaN</td>\n",
       "    </tr>\n",
       "    <tr>\n",
       "      <th>73560</th>\n",
       "      <td>142203.069917</td>\n",
       "      <td>125966.366442</td>\n",
       "      <td>1.0</td>\n",
       "      <td>54.0</td>\n",
       "      <td>2.0</td>\n",
       "      <td>2.0</td>\n",
       "      <td>21.0</td>\n",
       "      <td>3.0</td>\n",
       "      <td>1.0</td>\n",
       "      <td>1.0</td>\n",
       "      <td>...</td>\n",
       "      <td>NaN</td>\n",
       "      <td>NaN</td>\n",
       "      <td>NaN</td>\n",
       "      <td>NaN</td>\n",
       "      <td>NaN</td>\n",
       "      <td>NaN</td>\n",
       "      <td>NaN</td>\n",
       "      <td>3.0</td>\n",
       "      <td>3.0</td>\n",
       "      <td>3.0</td>\n",
       "    </tr>\n",
       "    <tr>\n",
       "      <th>73561</th>\n",
       "      <td>59052.357033</td>\n",
       "      <td>39004.892993</td>\n",
       "      <td>1.0</td>\n",
       "      <td>63.0</td>\n",
       "      <td>2.0</td>\n",
       "      <td>2.0</td>\n",
       "      <td>18.0</td>\n",
       "      <td>1.0</td>\n",
       "      <td>1.0</td>\n",
       "      <td>1.0</td>\n",
       "      <td>...</td>\n",
       "      <td>NaN</td>\n",
       "      <td>NaN</td>\n",
       "      <td>150.0</td>\n",
       "      <td>135.0</td>\n",
       "      <td>67.0</td>\n",
       "      <td>170.0</td>\n",
       "      <td>60.0</td>\n",
       "      <td>NaN</td>\n",
       "      <td>NaN</td>\n",
       "      <td>NaN</td>\n",
       "    </tr>\n",
       "  </tbody>\n",
       "</table>\n",
       "<p>5 rows × 1811 columns</p>\n",
       "</div>"
      ],
      "text/plain": [
       "              WTDRD1         WTDR2D  DR1DRSTZ  DR1EXMER  DRABF  DRDINT  \\\n",
       "SEQN                                                                     \n",
       "73557   16888.327864   12930.890649       1.0      49.0    2.0     2.0   \n",
       "73558   17932.143865   12684.148869       1.0      59.0    2.0     2.0   \n",
       "73559   59641.812930   39394.236709       1.0      49.0    2.0     2.0   \n",
       "73560  142203.069917  125966.366442       1.0      54.0    2.0     2.0   \n",
       "73561   59052.357033   39004.892993       1.0      63.0    2.0     2.0   \n",
       "\n",
       "       DR1DBIH  DR1DAY  DR1LANG  DR1MNRSP  ...  WHD080U  WHD080L  WHD110  \\\n",
       "SEQN                                       ...                             \n",
       "73557      6.0     2.0      1.0       1.0  ...      NaN     40.0   270.0   \n",
       "73558      4.0     1.0      1.0       1.0  ...      NaN      NaN   240.0   \n",
       "73559     18.0     6.0      1.0       1.0  ...      NaN      NaN   180.0   \n",
       "73560     21.0     3.0      1.0       1.0  ...      NaN      NaN     NaN   \n",
       "73561     18.0     1.0      1.0       1.0  ...      NaN      NaN   150.0   \n",
       "\n",
       "       WHD120  WHD130  WHD140  WHQ150  WHQ030M  WHQ500  WHQ520  \n",
       "SEQN                                                            \n",
       "73557   200.0    69.0   270.0    62.0      NaN     NaN     NaN  \n",
       "73558   250.0    72.0   250.0    25.0      NaN     NaN     NaN  \n",
       "73559   190.0    70.0   228.0    35.0      NaN     NaN     NaN  \n",
       "73560     NaN     NaN     NaN     NaN      3.0     3.0     3.0  \n",
       "73561   135.0    67.0   170.0    60.0      NaN     NaN     NaN  \n",
       "\n",
       "[5 rows x 1811 columns]"
      ]
     },
     "execution_count": 15,
     "metadata": {},
     "output_type": "execute_result"
    }
   ],
   "source": [
    "# Load in all CSVs combined \n",
    "nhanes_df = pd.concat([pd.read_csv(file, index_col='SEQN') for file in files[1:]],axis=1)\n",
    "nhanes_df.head()"
   ]
  },
  {
   "cell_type": "code",
   "execution_count": 16,
   "metadata": {},
   "outputs": [
    {
     "data": {
      "text/plain": [
       "(10175, 1811)"
      ]
     },
     "execution_count": 16,
     "metadata": {},
     "output_type": "execute_result"
    }
   ],
   "source": [
    "nhanes_df.shape"
   ]
  },
  {
   "cell_type": "markdown",
   "metadata": {},
   "source": [
    "### Task: Compress 1,800+ features down to 3 using PCA."
   ]
  },
  {
   "cell_type": "markdown",
   "metadata": {},
   "source": [
    "#### First: need to explore and define our column groups"
   ]
  },
  {
   "cell_type": "code",
   "execution_count": 17,
   "metadata": {
    "ExecuteTime": {
     "end_time": "2020-10-07T16:51:57.260872Z",
     "start_time": "2020-10-07T16:51:56.637884Z"
    }
   },
   "outputs": [],
   "source": [
    "# Some columns are mostly null data - let's explore\n",
    "num_rows = len(nhanes_df)\n",
    "high_null_cols = []\n",
    "\n",
    "for column in nhanes_df.columns:\n",
    "    num_nulls = nhanes_df[column].isna().sum()\n",
    "    perc_nulls = num_nulls / num_rows\n",
    "    if perc_nulls > .75:\n",
    "        high_null_cols.append(column)"
   ]
  },
  {
   "cell_type": "code",
   "execution_count": 18,
   "metadata": {
    "scrolled": false
   },
   "outputs": [
    {
     "data": {
      "text/plain": [
       "848"
      ]
     },
     "execution_count": 18,
     "metadata": {},
     "output_type": "execute_result"
    }
   ],
   "source": [
    "len(high_null_cols)"
   ]
  },
  {
   "cell_type": "code",
   "execution_count": 19,
   "metadata": {
    "ExecuteTime": {
     "end_time": "2020-10-07T16:49:19.268359Z",
     "start_time": "2020-10-07T16:49:19.019988Z"
    }
   },
   "outputs": [
    {
     "data": {
      "text/plain": [
       "['OHX02CTC',\n",
       " 'OHX03CTC',\n",
       " 'OHX04CTC',\n",
       " 'OHX05CTC',\n",
       " 'OHX06CTC',\n",
       " 'OHX07CTC',\n",
       " 'OHX08CTC',\n",
       " 'OHX09CTC',\n",
       " 'OHX10CTC',\n",
       " 'OHX11CTC',\n",
       " 'OHX12CTC',\n",
       " 'OHX13CTC',\n",
       " 'OHX14CTC',\n",
       " 'OHX15CTC',\n",
       " 'OHX18CTC',\n",
       " 'OHX19CTC',\n",
       " 'OHX20CTC',\n",
       " 'OHX21CTC',\n",
       " 'OHX22CTC',\n",
       " 'OHX23CTC',\n",
       " 'OHX24CTC',\n",
       " 'OHX25CTC',\n",
       " 'OHX26CTC',\n",
       " 'OHX27CTC',\n",
       " 'OHX28CTC',\n",
       " 'OHX29CTC',\n",
       " 'OHX30CTC',\n",
       " 'OHX31CTC',\n",
       " 'CSXTSEQ']"
      ]
     },
     "execution_count": 19,
     "metadata": {},
     "output_type": "execute_result"
    }
   ],
   "source": [
    "# Get a list of categorical columns \n",
    "cat_cols = [c for c in nhanes_df.select_dtypes('object').columns if c not in high_null_cols]\n",
    "cat_cols"
   ]
  },
  {
   "cell_type": "code",
   "execution_count": 20,
   "metadata": {
    "ExecuteTime": {
     "end_time": "2020-10-07T16:50:36.698669Z",
     "start_time": "2020-10-07T16:50:35.871116Z"
    },
    "scrolled": false
   },
   "outputs": [
    {
     "data": {
      "text/plain": [
       "<AxesSubplot:>"
      ]
     },
     "execution_count": 20,
     "metadata": {},
     "output_type": "execute_result"
    },
    {
     "data": {
      "image/png": "[encoded data removed]",
      "text/plain": [
       "<Figure size 1800x720 with 2 Axes>"
      ]
     },
     "metadata": {
      "needs_background": "light"
     },
     "output_type": "display_data"
    }
   ],
   "source": [
    "# Explore those categorical columns\n",
    "import missingno\n",
    "\n",
    "missingno.matrix(nhanes_df[cat_cols])"
   ]
  },
  {
   "cell_type": "code",
   "execution_count": 21,
   "metadata": {},
   "outputs": [
    {
     "data": {
      "text/html": [
       "<div>\n",
       "<style scoped>\n",
       "    .dataframe tbody tr th:only-of-type {\n",
       "        vertical-align: middle;\n",
       "    }\n",
       "\n",
       "    .dataframe tbody tr th {\n",
       "        vertical-align: top;\n",
       "    }\n",
       "\n",
       "    .dataframe thead th {\n",
       "        text-align: right;\n",
       "    }\n",
       "</style>\n",
       "<table border=\"1\" class=\"dataframe\">\n",
       "  <thead>\n",
       "    <tr style=\"text-align: right;\">\n",
       "      <th></th>\n",
       "      <th>OHX02CTC</th>\n",
       "      <th>OHX03CTC</th>\n",
       "      <th>OHX04CTC</th>\n",
       "      <th>OHX05CTC</th>\n",
       "      <th>OHX06CTC</th>\n",
       "      <th>OHX07CTC</th>\n",
       "      <th>OHX08CTC</th>\n",
       "      <th>OHX09CTC</th>\n",
       "      <th>OHX10CTC</th>\n",
       "      <th>OHX11CTC</th>\n",
       "      <th>...</th>\n",
       "      <th>OHX23CTC</th>\n",
       "      <th>OHX24CTC</th>\n",
       "      <th>OHX25CTC</th>\n",
       "      <th>OHX26CTC</th>\n",
       "      <th>OHX27CTC</th>\n",
       "      <th>OHX28CTC</th>\n",
       "      <th>OHX29CTC</th>\n",
       "      <th>OHX30CTC</th>\n",
       "      <th>OHX31CTC</th>\n",
       "      <th>CSXTSEQ</th>\n",
       "    </tr>\n",
       "  </thead>\n",
       "  <tbody>\n",
       "    <tr>\n",
       "      <th>count</th>\n",
       "      <td>8965</td>\n",
       "      <td>8965</td>\n",
       "      <td>8965</td>\n",
       "      <td>8965</td>\n",
       "      <td>8965</td>\n",
       "      <td>8965</td>\n",
       "      <td>8965</td>\n",
       "      <td>8965</td>\n",
       "      <td>8965</td>\n",
       "      <td>8965</td>\n",
       "      <td>...</td>\n",
       "      <td>8965</td>\n",
       "      <td>8965</td>\n",
       "      <td>8965</td>\n",
       "      <td>8965</td>\n",
       "      <td>8965</td>\n",
       "      <td>8965</td>\n",
       "      <td>8965</td>\n",
       "      <td>8965</td>\n",
       "      <td>8965</td>\n",
       "      <td>3234</td>\n",
       "    </tr>\n",
       "    <tr>\n",
       "      <th>unique</th>\n",
       "      <td>11</td>\n",
       "      <td>12</td>\n",
       "      <td>12</td>\n",
       "      <td>14</td>\n",
       "      <td>13</td>\n",
       "      <td>14</td>\n",
       "      <td>14</td>\n",
       "      <td>14</td>\n",
       "      <td>13</td>\n",
       "      <td>13</td>\n",
       "      <td>...</td>\n",
       "      <td>12</td>\n",
       "      <td>12</td>\n",
       "      <td>13</td>\n",
       "      <td>13</td>\n",
       "      <td>12</td>\n",
       "      <td>13</td>\n",
       "      <td>13</td>\n",
       "      <td>11</td>\n",
       "      <td>11</td>\n",
       "      <td>2</td>\n",
       "    </tr>\n",
       "    <tr>\n",
       "      <th>top</th>\n",
       "      <td>S</td>\n",
       "      <td>S</td>\n",
       "      <td>S</td>\n",
       "      <td>S</td>\n",
       "      <td>S</td>\n",
       "      <td>S</td>\n",
       "      <td>S</td>\n",
       "      <td>S</td>\n",
       "      <td>S</td>\n",
       "      <td>S</td>\n",
       "      <td>...</td>\n",
       "      <td>S</td>\n",
       "      <td>S</td>\n",
       "      <td>S</td>\n",
       "      <td>S</td>\n",
       "      <td>S</td>\n",
       "      <td>S</td>\n",
       "      <td>S</td>\n",
       "      <td>Z</td>\n",
       "      <td>Z</td>\n",
       "      <td>B</td>\n",
       "    </tr>\n",
       "    <tr>\n",
       "      <th>freq</th>\n",
       "      <td>2637</td>\n",
       "      <td>3230</td>\n",
       "      <td>3777</td>\n",
       "      <td>3997</td>\n",
       "      <td>5165</td>\n",
       "      <td>5322</td>\n",
       "      <td>5473</td>\n",
       "      <td>5500</td>\n",
       "      <td>5312</td>\n",
       "      <td>5123</td>\n",
       "      <td>...</td>\n",
       "      <td>6734</td>\n",
       "      <td>6991</td>\n",
       "      <td>6964</td>\n",
       "      <td>6719</td>\n",
       "      <td>6044</td>\n",
       "      <td>5045</td>\n",
       "      <td>4148</td>\n",
       "      <td>2955</td>\n",
       "      <td>2735</td>\n",
       "      <td>1658</td>\n",
       "    </tr>\n",
       "  </tbody>\n",
       "</table>\n",
       "<p>4 rows × 29 columns</p>\n",
       "</div>"
      ],
      "text/plain": [
       "       OHX02CTC OHX03CTC OHX04CTC OHX05CTC OHX06CTC OHX07CTC OHX08CTC  \\\n",
       "count      8965     8965     8965     8965     8965     8965     8965   \n",
       "unique       11       12       12       14       13       14       14   \n",
       "top           S        S        S        S        S        S        S   \n",
       "freq       2637     3230     3777     3997     5165     5322     5473   \n",
       "\n",
       "       OHX09CTC OHX10CTC OHX11CTC  ... OHX23CTC OHX24CTC OHX25CTC OHX26CTC  \\\n",
       "count      8965     8965     8965  ...     8965     8965     8965     8965   \n",
       "unique       14       13       13  ...       12       12       13       13   \n",
       "top           S        S        S  ...        S        S        S        S   \n",
       "freq       5500     5312     5123  ...     6734     6991     6964     6719   \n",
       "\n",
       "       OHX27CTC OHX28CTC OHX29CTC OHX30CTC OHX31CTC CSXTSEQ  \n",
       "count      8965     8965     8965     8965     8965    3234  \n",
       "unique       12       13       13       11       11       2  \n",
       "top           S        S        S        Z        Z       B  \n",
       "freq       6044     5045     4148     2955     2735    1658  \n",
       "\n",
       "[4 rows x 29 columns]"
      ]
     },
     "execution_count": 21,
     "metadata": {},
     "output_type": "execute_result"
    }
   ],
   "source": [
    "nhanes_df[cat_cols].describe()"
   ]
  },
  {
   "cell_type": "code",
   "execution_count": 22,
   "metadata": {},
   "outputs": [],
   "source": [
    "# Now a list of the rest of columns, which should all be numeric\n",
    "num_cols = [c for c in nhanes_df.columns if c not in [*cat_cols, *high_null_cols]]"
   ]
  },
  {
   "cell_type": "code",
   "execution_count": 23,
   "metadata": {},
   "outputs": [
    {
     "data": {
      "text/plain": [
       "True"
      ]
     },
     "execution_count": 23,
     "metadata": {},
     "output_type": "execute_result"
    }
   ],
   "source": [
    "len([*num_cols, *cat_cols, *high_null_cols]) == len(nhanes_df.columns)"
   ]
  },
  {
   "cell_type": "markdown",
   "metadata": {},
   "source": [
    "#### Pipeline!"
   ]
  },
  {
   "cell_type": "code",
   "execution_count": 24,
   "metadata": {},
   "outputs": [],
   "source": [
    "num_transformer = Pipeline(steps=[\n",
    "    ('num_imputer', SimpleImputer(strategy='median')),\n",
    "    ('scaler', MinMaxScaler())])\n",
    "\n",
    "ohe_transformer = Pipeline(steps=[\n",
    "    ('cat_imputer', SimpleImputer(strategy='constant', fill_value='Unknown')),\n",
    "    ('ohe', OneHotEncoder(handle_unknown='ignore'))])\n",
    "\n",
    "high_nulls_transformer = Pipeline(steps=[\n",
    "    ('null_indicator', MissingIndicator())])"
   ]
  },
  {
   "cell_type": "code",
   "execution_count": 25,
   "metadata": {},
   "outputs": [],
   "source": [
    "preprocessor = ColumnTransformer(\n",
    "    transformers=[\n",
    "        ('num', num_transformer, num_cols),\n",
    "        ('cat', ohe_transformer, cat_cols), \n",
    "        ('null', high_nulls_transformer, high_null_cols)])"
   ]
  },
  {
   "cell_type": "code",
   "execution_count": 26,
   "metadata": {
    "ExecuteTime": {
     "end_time": "2020-10-07T17:00:17.651700Z",
     "start_time": "2020-10-07T17:00:15.482792Z"
    }
   },
   "outputs": [
    {
     "data": {
      "text/plain": [
       "(10175, 2162)"
      ]
     },
     "execution_count": 26,
     "metadata": {},
     "output_type": "execute_result"
    }
   ],
   "source": [
    "# Fit transform just to check what it'll look like\n",
    "processed_data = pd.DataFrame(preprocessor.fit_transform(nhanes_df))\n",
    "\n",
    "processed_data.shape"
   ]
  },
  {
   "cell_type": "code",
   "execution_count": 27,
   "metadata": {
    "ExecuteTime": {
     "end_time": "2020-10-07T17:01:37.313799Z",
     "start_time": "2020-10-07T17:01:37.310798Z"
    }
   },
   "outputs": [],
   "source": [
    "# Add PCA\n",
    "n_components = 20\n",
    "\n",
    "pipe = Pipeline(steps=[('preprocessor', preprocessor),\n",
    "                       ('pca',PCA(n_components))])"
   ]
  },
  {
   "cell_type": "markdown",
   "metadata": {},
   "source": [
    "*You could put `n_components=.6` if we want our model to explain at least 60% of the variance. When she put this code in, she got 21 components*"
   ]
  },
  {
   "cell_type": "code",
   "execution_count": 28,
   "metadata": {
    "ExecuteTime": {
     "end_time": "2020-10-07T17:02:28.401180Z",
     "start_time": "2020-10-07T17:02:25.277206Z"
    }
   },
   "outputs": [
    {
     "data": {
      "text/plain": [
       "(10175, 20)"
      ]
     },
     "execution_count": 28,
     "metadata": {},
     "output_type": "execute_result"
    }
   ],
   "source": [
    "# Extract the Principal Components from the pipeline \n",
    "pc_data = pipe.fit_transform(nhanes_df)\n",
    "\n",
    "# Verify the # of features\n",
    "pc_data.shape"
   ]
  },
  {
   "cell_type": "code",
   "execution_count": 29,
   "metadata": {
    "ExecuteTime": {
     "end_time": "2020-10-07T17:05:07.172178Z",
     "start_time": "2020-10-07T17:05:07.168424Z"
    }
   },
   "outputs": [],
   "source": [
    "# Let's name these components\n",
    "feature_names = [f\"PC{n}\" for n in range(1, n_components+1)]"
   ]
  },
  {
   "cell_type": "code",
   "execution_count": 30,
   "metadata": {
    "ExecuteTime": {
     "end_time": "2020-10-07T17:05:26.786010Z",
     "start_time": "2020-10-07T17:05:26.757654Z"
    }
   },
   "outputs": [
    {
     "data": {
      "text/html": [
       "<div>\n",
       "<style scoped>\n",
       "    .dataframe tbody tr th:only-of-type {\n",
       "        vertical-align: middle;\n",
       "    }\n",
       "\n",
       "    .dataframe tbody tr th {\n",
       "        vertical-align: top;\n",
       "    }\n",
       "\n",
       "    .dataframe thead th {\n",
       "        text-align: right;\n",
       "    }\n",
       "</style>\n",
       "<table border=\"1\" class=\"dataframe\">\n",
       "  <thead>\n",
       "    <tr style=\"text-align: right;\">\n",
       "      <th></th>\n",
       "      <th>PC1</th>\n",
       "      <th>PC2</th>\n",
       "      <th>PC3</th>\n",
       "      <th>PC4</th>\n",
       "      <th>PC5</th>\n",
       "      <th>PC6</th>\n",
       "      <th>PC7</th>\n",
       "      <th>PC8</th>\n",
       "      <th>PC9</th>\n",
       "      <th>PC10</th>\n",
       "      <th>PC11</th>\n",
       "      <th>PC12</th>\n",
       "      <th>PC13</th>\n",
       "      <th>PC14</th>\n",
       "      <th>PC15</th>\n",
       "      <th>PC16</th>\n",
       "      <th>PC17</th>\n",
       "      <th>PC18</th>\n",
       "      <th>PC19</th>\n",
       "      <th>PC20</th>\n",
       "    </tr>\n",
       "  </thead>\n",
       "  <tbody>\n",
       "    <tr>\n",
       "      <th>0</th>\n",
       "      <td>-1.444760</td>\n",
       "      <td>0.062726</td>\n",
       "      <td>5.371685</td>\n",
       "      <td>-2.163971</td>\n",
       "      <td>-1.361499</td>\n",
       "      <td>-0.662249</td>\n",
       "      <td>3.109931</td>\n",
       "      <td>-1.941314</td>\n",
       "      <td>-2.742550</td>\n",
       "      <td>-0.124560</td>\n",
       "      <td>-3.056234</td>\n",
       "      <td>-0.032527</td>\n",
       "      <td>0.782879</td>\n",
       "      <td>-1.878450</td>\n",
       "      <td>-0.797098</td>\n",
       "      <td>-0.076210</td>\n",
       "      <td>-1.483669</td>\n",
       "      <td>-0.306794</td>\n",
       "      <td>-0.039240</td>\n",
       "      <td>0.852804</td>\n",
       "    </tr>\n",
       "    <tr>\n",
       "      <th>1</th>\n",
       "      <td>2.458966</td>\n",
       "      <td>6.418345</td>\n",
       "      <td>1.542705</td>\n",
       "      <td>1.363692</td>\n",
       "      <td>-1.869112</td>\n",
       "      <td>-0.939414</td>\n",
       "      <td>1.545690</td>\n",
       "      <td>1.112997</td>\n",
       "      <td>-1.244561</td>\n",
       "      <td>-3.677963</td>\n",
       "      <td>-0.467826</td>\n",
       "      <td>0.734061</td>\n",
       "      <td>2.357401</td>\n",
       "      <td>-1.535757</td>\n",
       "      <td>0.526605</td>\n",
       "      <td>-0.530404</td>\n",
       "      <td>0.347386</td>\n",
       "      <td>-0.608020</td>\n",
       "      <td>-1.075053</td>\n",
       "      <td>-0.333293</td>\n",
       "    </tr>\n",
       "    <tr>\n",
       "      <th>2</th>\n",
       "      <td>0.360770</td>\n",
       "      <td>0.277832</td>\n",
       "      <td>2.732029</td>\n",
       "      <td>-3.105924</td>\n",
       "      <td>-0.728588</td>\n",
       "      <td>-1.511495</td>\n",
       "      <td>-2.221124</td>\n",
       "      <td>-0.460236</td>\n",
       "      <td>-1.164649</td>\n",
       "      <td>-3.029225</td>\n",
       "      <td>-0.839583</td>\n",
       "      <td>0.266484</td>\n",
       "      <td>1.347519</td>\n",
       "      <td>-1.831587</td>\n",
       "      <td>-1.479022</td>\n",
       "      <td>-0.365064</td>\n",
       "      <td>-0.912797</td>\n",
       "      <td>-0.278851</td>\n",
       "      <td>-0.713657</td>\n",
       "      <td>0.842420</td>\n",
       "    </tr>\n",
       "    <tr>\n",
       "      <th>3</th>\n",
       "      <td>-3.393447</td>\n",
       "      <td>-0.611855</td>\n",
       "      <td>-2.284848</td>\n",
       "      <td>-1.188195</td>\n",
       "      <td>-0.695225</td>\n",
       "      <td>-1.447119</td>\n",
       "      <td>0.705370</td>\n",
       "      <td>2.262296</td>\n",
       "      <td>-0.978687</td>\n",
       "      <td>1.019013</td>\n",
       "      <td>0.435448</td>\n",
       "      <td>-0.377207</td>\n",
       "      <td>-1.058927</td>\n",
       "      <td>-0.349129</td>\n",
       "      <td>-0.634943</td>\n",
       "      <td>-0.034768</td>\n",
       "      <td>0.040688</td>\n",
       "      <td>-0.472082</td>\n",
       "      <td>-0.163437</td>\n",
       "      <td>-0.495661</td>\n",
       "    </tr>\n",
       "    <tr>\n",
       "      <th>4</th>\n",
       "      <td>-0.385730</td>\n",
       "      <td>-0.959989</td>\n",
       "      <td>4.543877</td>\n",
       "      <td>-2.397694</td>\n",
       "      <td>-1.654590</td>\n",
       "      <td>-1.428129</td>\n",
       "      <td>-0.710099</td>\n",
       "      <td>0.170535</td>\n",
       "      <td>0.804264</td>\n",
       "      <td>-0.057175</td>\n",
       "      <td>0.299104</td>\n",
       "      <td>1.575985</td>\n",
       "      <td>-0.059049</td>\n",
       "      <td>1.377161</td>\n",
       "      <td>0.188818</td>\n",
       "      <td>0.415918</td>\n",
       "      <td>1.797333</td>\n",
       "      <td>-0.863713</td>\n",
       "      <td>1.655549</td>\n",
       "      <td>-0.766267</td>\n",
       "    </tr>\n",
       "  </tbody>\n",
       "</table>\n",
       "</div>"
      ],
      "text/plain": [
       "        PC1       PC2       PC3       PC4       PC5       PC6       PC7  \\\n",
       "0 -1.444760  0.062726  5.371685 -2.163971 -1.361499 -0.662249  3.109931   \n",
       "1  2.458966  6.418345  1.542705  1.363692 -1.869112 -0.939414  1.545690   \n",
       "2  0.360770  0.277832  2.732029 -3.105924 -0.728588 -1.511495 -2.221124   \n",
       "3 -3.393447 -0.611855 -2.284848 -1.188195 -0.695225 -1.447119  0.705370   \n",
       "4 -0.385730 -0.959989  4.543877 -2.397694 -1.654590 -1.428129 -0.710099   \n",
       "\n",
       "        PC8       PC9      PC10      PC11      PC12      PC13      PC14  \\\n",
       "0 -1.941314 -2.742550 -0.124560 -3.056234 -0.032527  0.782879 -1.878450   \n",
       "1  1.112997 -1.244561 -3.677963 -0.467826  0.734061  2.357401 -1.535757   \n",
       "2 -0.460236 -1.164649 -3.029225 -0.839583  0.266484  1.347519 -1.831587   \n",
       "3  2.262296 -0.978687  1.019013  0.435448 -0.377207 -1.058927 -0.349129   \n",
       "4  0.170535  0.804264 -0.057175  0.299104  1.575985 -0.059049  1.377161   \n",
       "\n",
       "       PC15      PC16      PC17      PC18      PC19      PC20  \n",
       "0 -0.797098 -0.076210 -1.483669 -0.306794 -0.039240  0.852804  \n",
       "1  0.526605 -0.530404  0.347386 -0.608020 -1.075053 -0.333293  \n",
       "2 -1.479022 -0.365064 -0.912797 -0.278851 -0.713657  0.842420  \n",
       "3 -0.634943 -0.034768  0.040688 -0.472082 -0.163437 -0.495661  \n",
       "4  0.188818  0.415918  1.797333 -0.863713  1.655549 -0.766267  "
      ]
     },
     "execution_count": 30,
     "metadata": {},
     "output_type": "execute_result"
    }
   ],
   "source": [
    "# Add the column names and check out the PC data as a dataframe\n",
    "df_pca = pd.DataFrame(pc_data, columns=feature_names)\n",
    "df_pca.head()"
   ]
  },
  {
   "cell_type": "code",
   "execution_count": 31,
   "metadata": {
    "ExecuteTime": {
     "end_time": "2020-10-07T17:07:43.347953Z",
     "start_time": "2020-10-07T17:07:43.167381Z"
    }
   },
   "outputs": [
    {
     "name": "stdout",
     "output_type": "stream",
     "text": [
      "0.5947490889779938\n"
     ]
    },
    {
     "data": {
      "image/png": "[encoded data removed]",
      "text/plain": [
       "<Figure size 432x288 with 1 Axes>"
      ]
     },
     "metadata": {
      "needs_background": "light"
     },
     "output_type": "display_data"
    }
   ],
   "source": [
    "# Check how much variance is explained by all of our PCs\n",
    "explained_var = pd.Series(pipe.named_steps['pca'].explained_variance_ratio_, index=feature_names)\n",
    "explained_var.sort_values().plot(kind='barh')\n",
    "plt.xlabel(\"Percentage of Explained Variance\")\n",
    "print(explained_var.sum())"
   ]
  },
  {
   "cell_type": "markdown",
   "metadata": {},
   "source": [
    "How much of the total variance do these contain?\n",
    "\n",
    "- \n"
   ]
  },
  {
   "cell_type": "markdown",
   "metadata": {},
   "source": [
    "#### So what did we capture?"
   ]
  },
  {
   "cell_type": "code",
   "execution_count": 32,
   "metadata": {},
   "outputs": [
    {
     "data": {
      "text/html": [
       "<div>\n",
       "<style scoped>\n",
       "    .dataframe tbody tr th:only-of-type {\n",
       "        vertical-align: middle;\n",
       "    }\n",
       "\n",
       "    .dataframe tbody tr th {\n",
       "        vertical-align: top;\n",
       "    }\n",
       "\n",
       "    .dataframe thead th {\n",
       "        text-align: right;\n",
       "    }\n",
       "</style>\n",
       "<table border=\"1\" class=\"dataframe\">\n",
       "  <thead>\n",
       "    <tr style=\"text-align: right;\">\n",
       "      <th></th>\n",
       "      <th>PC1</th>\n",
       "      <th>PC2</th>\n",
       "      <th>PC3</th>\n",
       "      <th>PC4</th>\n",
       "      <th>PC5</th>\n",
       "      <th>PC6</th>\n",
       "      <th>PC7</th>\n",
       "      <th>PC8</th>\n",
       "      <th>PC9</th>\n",
       "      <th>PC10</th>\n",
       "      <th>PC11</th>\n",
       "      <th>PC12</th>\n",
       "      <th>PC13</th>\n",
       "      <th>PC14</th>\n",
       "      <th>PC15</th>\n",
       "      <th>PC16</th>\n",
       "      <th>PC17</th>\n",
       "      <th>PC18</th>\n",
       "      <th>PC19</th>\n",
       "      <th>PC20</th>\n",
       "    </tr>\n",
       "  </thead>\n",
       "  <tbody>\n",
       "    <tr>\n",
       "      <th>0</th>\n",
       "      <td>-1.444760</td>\n",
       "      <td>0.062726</td>\n",
       "      <td>5.371685</td>\n",
       "      <td>-2.163971</td>\n",
       "      <td>-1.361499</td>\n",
       "      <td>-0.662249</td>\n",
       "      <td>3.109931</td>\n",
       "      <td>-1.941314</td>\n",
       "      <td>-2.742550</td>\n",
       "      <td>-0.124560</td>\n",
       "      <td>-3.056234</td>\n",
       "      <td>-0.032527</td>\n",
       "      <td>0.782879</td>\n",
       "      <td>-1.878450</td>\n",
       "      <td>-0.797098</td>\n",
       "      <td>-0.076210</td>\n",
       "      <td>-1.483669</td>\n",
       "      <td>-0.306794</td>\n",
       "      <td>-0.039240</td>\n",
       "      <td>0.852804</td>\n",
       "    </tr>\n",
       "    <tr>\n",
       "      <th>1</th>\n",
       "      <td>2.458966</td>\n",
       "      <td>6.418345</td>\n",
       "      <td>1.542705</td>\n",
       "      <td>1.363692</td>\n",
       "      <td>-1.869112</td>\n",
       "      <td>-0.939414</td>\n",
       "      <td>1.545690</td>\n",
       "      <td>1.112997</td>\n",
       "      <td>-1.244561</td>\n",
       "      <td>-3.677963</td>\n",
       "      <td>-0.467826</td>\n",
       "      <td>0.734061</td>\n",
       "      <td>2.357401</td>\n",
       "      <td>-1.535757</td>\n",
       "      <td>0.526605</td>\n",
       "      <td>-0.530404</td>\n",
       "      <td>0.347386</td>\n",
       "      <td>-0.608020</td>\n",
       "      <td>-1.075053</td>\n",
       "      <td>-0.333293</td>\n",
       "    </tr>\n",
       "    <tr>\n",
       "      <th>2</th>\n",
       "      <td>0.360770</td>\n",
       "      <td>0.277832</td>\n",
       "      <td>2.732029</td>\n",
       "      <td>-3.105924</td>\n",
       "      <td>-0.728588</td>\n",
       "      <td>-1.511495</td>\n",
       "      <td>-2.221124</td>\n",
       "      <td>-0.460236</td>\n",
       "      <td>-1.164649</td>\n",
       "      <td>-3.029225</td>\n",
       "      <td>-0.839583</td>\n",
       "      <td>0.266484</td>\n",
       "      <td>1.347519</td>\n",
       "      <td>-1.831587</td>\n",
       "      <td>-1.479022</td>\n",
       "      <td>-0.365064</td>\n",
       "      <td>-0.912797</td>\n",
       "      <td>-0.278851</td>\n",
       "      <td>-0.713657</td>\n",
       "      <td>0.842420</td>\n",
       "    </tr>\n",
       "    <tr>\n",
       "      <th>3</th>\n",
       "      <td>-3.393447</td>\n",
       "      <td>-0.611855</td>\n",
       "      <td>-2.284848</td>\n",
       "      <td>-1.188195</td>\n",
       "      <td>-0.695225</td>\n",
       "      <td>-1.447119</td>\n",
       "      <td>0.705370</td>\n",
       "      <td>2.262296</td>\n",
       "      <td>-0.978687</td>\n",
       "      <td>1.019013</td>\n",
       "      <td>0.435448</td>\n",
       "      <td>-0.377207</td>\n",
       "      <td>-1.058927</td>\n",
       "      <td>-0.349129</td>\n",
       "      <td>-0.634943</td>\n",
       "      <td>-0.034768</td>\n",
       "      <td>0.040688</td>\n",
       "      <td>-0.472082</td>\n",
       "      <td>-0.163437</td>\n",
       "      <td>-0.495661</td>\n",
       "    </tr>\n",
       "    <tr>\n",
       "      <th>4</th>\n",
       "      <td>-0.385730</td>\n",
       "      <td>-0.959989</td>\n",
       "      <td>4.543877</td>\n",
       "      <td>-2.397694</td>\n",
       "      <td>-1.654590</td>\n",
       "      <td>-1.428129</td>\n",
       "      <td>-0.710099</td>\n",
       "      <td>0.170535</td>\n",
       "      <td>0.804264</td>\n",
       "      <td>-0.057175</td>\n",
       "      <td>0.299104</td>\n",
       "      <td>1.575985</td>\n",
       "      <td>-0.059049</td>\n",
       "      <td>1.377161</td>\n",
       "      <td>0.188818</td>\n",
       "      <td>0.415918</td>\n",
       "      <td>1.797333</td>\n",
       "      <td>-0.863713</td>\n",
       "      <td>1.655549</td>\n",
       "      <td>-0.766267</td>\n",
       "    </tr>\n",
       "    <tr>\n",
       "      <th>...</th>\n",
       "      <td>...</td>\n",
       "      <td>...</td>\n",
       "      <td>...</td>\n",
       "      <td>...</td>\n",
       "      <td>...</td>\n",
       "      <td>...</td>\n",
       "      <td>...</td>\n",
       "      <td>...</td>\n",
       "      <td>...</td>\n",
       "      <td>...</td>\n",
       "      <td>...</td>\n",
       "      <td>...</td>\n",
       "      <td>...</td>\n",
       "      <td>...</td>\n",
       "      <td>...</td>\n",
       "      <td>...</td>\n",
       "      <td>...</td>\n",
       "      <td>...</td>\n",
       "      <td>...</td>\n",
       "      <td>...</td>\n",
       "    </tr>\n",
       "    <tr>\n",
       "      <th>10170</th>\n",
       "      <td>1.069354</td>\n",
       "      <td>5.420934</td>\n",
       "      <td>-1.557212</td>\n",
       "      <td>0.938435</td>\n",
       "      <td>0.537694</td>\n",
       "      <td>-0.451400</td>\n",
       "      <td>-0.207456</td>\n",
       "      <td>-1.433010</td>\n",
       "      <td>-0.537060</td>\n",
       "      <td>1.663846</td>\n",
       "      <td>0.085167</td>\n",
       "      <td>1.383488</td>\n",
       "      <td>1.099255</td>\n",
       "      <td>0.664755</td>\n",
       "      <td>-0.914783</td>\n",
       "      <td>-0.475412</td>\n",
       "      <td>-0.733972</td>\n",
       "      <td>-0.333654</td>\n",
       "      <td>0.438558</td>\n",
       "      <td>-0.878723</td>\n",
       "    </tr>\n",
       "    <tr>\n",
       "      <th>10171</th>\n",
       "      <td>-4.996754</td>\n",
       "      <td>-1.405603</td>\n",
       "      <td>-0.107241</td>\n",
       "      <td>2.209427</td>\n",
       "      <td>-2.355092</td>\n",
       "      <td>0.965557</td>\n",
       "      <td>-0.550122</td>\n",
       "      <td>-2.019589</td>\n",
       "      <td>0.526408</td>\n",
       "      <td>-0.378998</td>\n",
       "      <td>0.026527</td>\n",
       "      <td>-0.361667</td>\n",
       "      <td>-0.198668</td>\n",
       "      <td>-0.039500</td>\n",
       "      <td>-0.054085</td>\n",
       "      <td>-0.418350</td>\n",
       "      <td>0.338375</td>\n",
       "      <td>-0.410370</td>\n",
       "      <td>-0.374901</td>\n",
       "      <td>-0.224554</td>\n",
       "    </tr>\n",
       "    <tr>\n",
       "      <th>10172</th>\n",
       "      <td>3.668946</td>\n",
       "      <td>-2.954731</td>\n",
       "      <td>-0.860676</td>\n",
       "      <td>0.511957</td>\n",
       "      <td>-0.490520</td>\n",
       "      <td>-1.962673</td>\n",
       "      <td>-1.776651</td>\n",
       "      <td>0.043811</td>\n",
       "      <td>-0.702692</td>\n",
       "      <td>0.173457</td>\n",
       "      <td>-1.196782</td>\n",
       "      <td>-1.955954</td>\n",
       "      <td>-0.463116</td>\n",
       "      <td>0.314633</td>\n",
       "      <td>-1.646149</td>\n",
       "      <td>-0.310228</td>\n",
       "      <td>1.169775</td>\n",
       "      <td>1.462070</td>\n",
       "      <td>-1.489345</td>\n",
       "      <td>-0.341829</td>\n",
       "    </tr>\n",
       "    <tr>\n",
       "      <th>10173</th>\n",
       "      <td>-4.138804</td>\n",
       "      <td>-0.926078</td>\n",
       "      <td>-2.109125</td>\n",
       "      <td>-0.603035</td>\n",
       "      <td>-1.281605</td>\n",
       "      <td>-0.252295</td>\n",
       "      <td>-0.052351</td>\n",
       "      <td>3.078653</td>\n",
       "      <td>-0.820522</td>\n",
       "      <td>0.811857</td>\n",
       "      <td>-0.444820</td>\n",
       "      <td>0.406144</td>\n",
       "      <td>0.218409</td>\n",
       "      <td>0.268847</td>\n",
       "      <td>-0.603655</td>\n",
       "      <td>0.581621</td>\n",
       "      <td>-0.495894</td>\n",
       "      <td>-0.793734</td>\n",
       "      <td>0.489095</td>\n",
       "      <td>0.067029</td>\n",
       "    </tr>\n",
       "    <tr>\n",
       "      <th>10174</th>\n",
       "      <td>-2.525200</td>\n",
       "      <td>-0.329980</td>\n",
       "      <td>-2.341968</td>\n",
       "      <td>-1.742452</td>\n",
       "      <td>0.042219</td>\n",
       "      <td>-0.618184</td>\n",
       "      <td>-0.106518</td>\n",
       "      <td>1.537723</td>\n",
       "      <td>-0.458899</td>\n",
       "      <td>0.162887</td>\n",
       "      <td>-0.588686</td>\n",
       "      <td>0.803786</td>\n",
       "      <td>-0.404220</td>\n",
       "      <td>-0.433596</td>\n",
       "      <td>-0.694359</td>\n",
       "      <td>-0.382291</td>\n",
       "      <td>0.280816</td>\n",
       "      <td>-0.285081</td>\n",
       "      <td>0.269886</td>\n",
       "      <td>-0.936195</td>\n",
       "    </tr>\n",
       "  </tbody>\n",
       "</table>\n",
       "<p>10175 rows × 20 columns</p>\n",
       "</div>"
      ],
      "text/plain": [
       "            PC1       PC2       PC3       PC4       PC5       PC6       PC7  \\\n",
       "0     -1.444760  0.062726  5.371685 -2.163971 -1.361499 -0.662249  3.109931   \n",
       "1      2.458966  6.418345  1.542705  1.363692 -1.869112 -0.939414  1.545690   \n",
       "2      0.360770  0.277832  2.732029 -3.105924 -0.728588 -1.511495 -2.221124   \n",
       "3     -3.393447 -0.611855 -2.284848 -1.188195 -0.695225 -1.447119  0.705370   \n",
       "4     -0.385730 -0.959989  4.543877 -2.397694 -1.654590 -1.428129 -0.710099   \n",
       "...         ...       ...       ...       ...       ...       ...       ...   \n",
       "10170  1.069354  5.420934 -1.557212  0.938435  0.537694 -0.451400 -0.207456   \n",
       "10171 -4.996754 -1.405603 -0.107241  2.209427 -2.355092  0.965557 -0.550122   \n",
       "10172  3.668946 -2.954731 -0.860676  0.511957 -0.490520 -1.962673 -1.776651   \n",
       "10173 -4.138804 -0.926078 -2.109125 -0.603035 -1.281605 -0.252295 -0.052351   \n",
       "10174 -2.525200 -0.329980 -2.341968 -1.742452  0.042219 -0.618184 -0.106518   \n",
       "\n",
       "            PC8       PC9      PC10      PC11      PC12      PC13      PC14  \\\n",
       "0     -1.941314 -2.742550 -0.124560 -3.056234 -0.032527  0.782879 -1.878450   \n",
       "1      1.112997 -1.244561 -3.677963 -0.467826  0.734061  2.357401 -1.535757   \n",
       "2     -0.460236 -1.164649 -3.029225 -0.839583  0.266484  1.347519 -1.831587   \n",
       "3      2.262296 -0.978687  1.019013  0.435448 -0.377207 -1.058927 -0.349129   \n",
       "4      0.170535  0.804264 -0.057175  0.299104  1.575985 -0.059049  1.377161   \n",
       "...         ...       ...       ...       ...       ...       ...       ...   \n",
       "10170 -1.433010 -0.537060  1.663846  0.085167  1.383488  1.099255  0.664755   \n",
       "10171 -2.019589  0.526408 -0.378998  0.026527 -0.361667 -0.198668 -0.039500   \n",
       "10172  0.043811 -0.702692  0.173457 -1.196782 -1.955954 -0.463116  0.314633   \n",
       "10173  3.078653 -0.820522  0.811857 -0.444820  0.406144  0.218409  0.268847   \n",
       "10174  1.537723 -0.458899  0.162887 -0.588686  0.803786 -0.404220 -0.433596   \n",
       "\n",
       "           PC15      PC16      PC17      PC18      PC19      PC20  \n",
       "0     -0.797098 -0.076210 -1.483669 -0.306794 -0.039240  0.852804  \n",
       "1      0.526605 -0.530404  0.347386 -0.608020 -1.075053 -0.333293  \n",
       "2     -1.479022 -0.365064 -0.912797 -0.278851 -0.713657  0.842420  \n",
       "3     -0.634943 -0.034768  0.040688 -0.472082 -0.163437 -0.495661  \n",
       "4      0.188818  0.415918  1.797333 -0.863713  1.655549 -0.766267  \n",
       "...         ...       ...       ...       ...       ...       ...  \n",
       "10170 -0.914783 -0.475412 -0.733972 -0.333654  0.438558 -0.878723  \n",
       "10171 -0.054085 -0.418350  0.338375 -0.410370 -0.374901 -0.224554  \n",
       "10172 -1.646149 -0.310228  1.169775  1.462070 -1.489345 -0.341829  \n",
       "10173 -0.603655  0.581621 -0.495894 -0.793734  0.489095  0.067029  \n",
       "10174 -0.694359 -0.382291  0.280816 -0.285081  0.269886 -0.936195  \n",
       "\n",
       "[10175 rows x 20 columns]"
      ]
     },
     "execution_count": 32,
     "metadata": {},
     "output_type": "execute_result"
    }
   ],
   "source": [
    "df_pca"
   ]
  },
  {
   "cell_type": "code",
   "execution_count": 33,
   "metadata": {},
   "outputs": [
    {
     "data": {
      "text/plain": [
       "Index(['PC1', 'PC2', 'PC3', 'PC4', 'PC5', 'PC6', 'PC7', 'PC8', 'PC9', 'PC10',\n",
       "       'PC11', 'PC12', 'PC13', 'PC14', 'PC15', 'PC16', 'PC17', 'PC18', 'PC19',\n",
       "       'PC20'],\n",
       "      dtype='object')"
      ]
     },
     "execution_count": 33,
     "metadata": {},
     "output_type": "execute_result"
    }
   ],
   "source": [
    "df_pca.columns"
   ]
  },
  {
   "cell_type": "code",
   "execution_count": 34,
   "metadata": {
    "ExecuteTime": {
     "end_time": "2020-10-07T17:10:54.451065Z",
     "start_time": "2020-10-07T17:10:54.086821Z"
    }
   },
   "outputs": [
    {
     "data": {
      "image/png": "[encoded data removed]",
      "text/plain": [
       "<Figure size 432x288 with 1 Axes>"
      ]
     },
     "metadata": {
      "needs_background": "light"
     },
     "output_type": "display_data"
    }
   ],
   "source": [
    "# Plot PC1 vs PC2\n",
    "\n",
    "x = 'PC1'\n",
    "y = 'PC2'\n",
    "\n",
    "plt.scatter(df_pca[x], df_pca[y])\n",
    "plt.xlabel(x)\n",
    "plt.ylabel(y)\n",
    "plt.title(f\"{x} vs {y}\")\n",
    "plt.show()\n"
   ]
  },
  {
   "cell_type": "markdown",
   "metadata": {},
   "source": [
    "#### Make an Interactive Function for Exploring (!!)"
   ]
  },
  {
   "cell_type": "code",
   "execution_count": 35,
   "metadata": {
    "ExecuteTime": {
     "end_time": "2020-10-07T17:14:59.796983Z",
     "start_time": "2020-10-07T17:14:59.405964Z"
    }
   },
   "outputs": [
    {
     "data": {
      "application/vnd.jupyter.widget-view+json": {
       "model_id": "077917acd2c84458af7977cd904c1ed2",
       "version_major": 2,
       "version_minor": 0
      },
      "text/plain": [
       "interactive(children=(Dropdown(description='x', options=('PC1', 'PC2', 'PC3', 'PC4', 'PC5', 'PC6', 'PC7', 'PC8…"
      ]
     },
     "metadata": {},
     "output_type": "display_data"
    }
   ],
   "source": [
    "# Make interactive function to show any comparison\n",
    "from ipywidgets import interact\n",
    "\n",
    "@interact(x=feature_names, y=feature_names)\n",
    "def plot_2D_PC(x='PC1', y='PC2'): \n",
    "    \"\"\"Plot two principal components against each other\"\"\"\n",
    "    plt.scatter(df_pca[x], df_pca[y])\n",
    "    plt.xlabel(x)\n",
    "    plt.ylabel(y)\n",
    "    plt.title(f\"{x} vs {y}\")\n",
    "    plt.show()"
   ]
  },
  {
   "cell_type": "markdown",
   "metadata": {},
   "source": [
    "#### We are only visualizing a small portion of our PC data, let's add another dimension\n",
    "\n",
    "#### Make an interactive plotly scatter3d"
   ]
  },
  {
   "cell_type": "code",
   "execution_count": 36,
   "metadata": {
    "ExecuteTime": {
     "end_time": "2020-10-07T17:18:15.577651Z",
     "start_time": "2020-10-07T17:18:15.172708Z"
    },
    "scrolled": false
   },
   "outputs": [
    {
     "data": {
      "application/vnd.jupyter.widget-view+json": {
       "model_id": "4609a6f2f7944cacb606193fcb7c83e8",
       "version_major": 2,
       "version_minor": 0
      },
      "text/plain": [
       "interactive(children=(Dropdown(description='x', options=('PC1', 'PC2', 'PC3', 'PC4', 'PC5', 'PC6', 'PC7', 'PC8…"
      ]
     },
     "metadata": {},
     "output_type": "display_data"
    }
   ],
   "source": [
    "import plotly.express as px\n",
    "\n",
    "@interact(x=feature_names, y=feature_names, z=feature_names)\n",
    "def plot_3D_pc(x='PC1', y='PC2', z='PC3'):\n",
    "    fig = px.scatter_3d(df_pca, x=x, y=y, z=z)\n",
    "    fig.update_traces(marker={'size': 2})\n",
    "    return fig"
   ]
  },
  {
   "cell_type": "markdown",
   "metadata": {},
   "source": [
    "## Now, Clustering!"
   ]
  },
  {
   "cell_type": "markdown",
   "metadata": {},
   "source": [
    "### Wait - How is clustering different from classification?\n",
    "\n",
    ">In _classification_ you **know** what groups are in the dataset and the goal is to _**predict**_ class membership accurately.\n",
    ">\n",
    ">In _clustering_ you **do not** know which groups are in the dataset and you are trying to _**identify**_ the groups."
   ]
  },
  {
   "cell_type": "markdown",
   "metadata": {
    "slideshow": {
     "slide_type": "slide"
    }
   },
   "source": [
    "### So what do you do with clustering results?\n",
    "\n",
    "Clustering is often an *informing* step in your analysis. Once clusters are identified, one can:\n",
    "- Create strategies on how to approach each group differently\n",
    "- Use cluster membership as an independent variable in a predictive model\n",
    "- Use the clusters as the _target label_ in future classification models. How would you assign new data to the existing clusters?"
   ]
  },
  {
   "cell_type": "markdown",
   "metadata": {},
   "source": [
    "### Let's Try Clustering Our PCA-ed Data!"
   ]
  },
  {
   "cell_type": "code",
   "execution_count": 37,
   "metadata": {},
   "outputs": [],
   "source": [
    "# Imports round 4\n",
    "from sklearn.cluster import KMeans, AgglomerativeClustering\n",
    "from sklearn.metrics import silhouette_score\n",
    "\n",
    "# Need scipy for hierarchical clustering visualizations\n",
    "from scipy.cluster.hierarchy import dendrogram"
   ]
  },
  {
   "cell_type": "code",
   "execution_count": 38,
   "metadata": {},
   "outputs": [
    {
     "data": {
      "text/plain": [
       "KMeans(n_clusters=3)"
      ]
     },
     "execution_count": 38,
     "metadata": {},
     "output_type": "execute_result"
    }
   ],
   "source": [
    "# Let's start with KMeans! How many clusters...?\n",
    "model = KMeans(n_clusters=3)\n",
    "\n",
    "model.fit(df_pca)"
   ]
  },
  {
   "cell_type": "code",
   "execution_count": 39,
   "metadata": {},
   "outputs": [
    {
     "data": {
      "text/plain": [
       "array([[ 1.16532968e+00,  2.94796294e+00,  1.51070419e+00,\n",
       "        -6.12104164e-01, -5.26377967e-01, -9.19456848e-02,\n",
       "        -7.27216105e-02, -1.06659488e-01, -2.31134748e-02,\n",
       "         3.21383805e-02,  5.68945151e-02,  7.57655844e-02,\n",
       "        -1.14262377e-01,  7.75414686e-02, -8.51724629e-02,\n",
       "         6.50424392e-02, -7.73616597e-02, -3.18568495e-02,\n",
       "         2.34557080e-02,  5.15923960e-02],\n",
       "       [-3.28416423e+00, -7.35182030e-01, -9.41210956e-01,\n",
       "        -2.47061137e-02,  4.82809798e-01,  4.39995546e-02,\n",
       "         1.48123973e-02,  7.59324905e-02,  1.19524747e-01,\n",
       "        -7.28810659e-02,  1.59117008e-03, -1.49614620e-02,\n",
       "         5.76930918e-02, -6.54864616e-02,  1.26102658e-01,\n",
       "        -5.52036753e-02,  3.02627211e-02, -4.88404621e-03,\n",
       "        -1.38058205e-02, -3.20202787e-02],\n",
       "       [ 5.08308130e+00, -3.86410701e+00, -7.33703991e-01,\n",
       "         1.19398040e+00, -8.63303132e-02,  7.39925524e-02,\n",
       "         1.02660385e-01,  3.08654960e-02, -2.20917656e-01,\n",
       "         1.01116041e-01, -1.09422010e-01, -1.07997521e-01,\n",
       "         8.52956947e-02,  2.69592031e-04, -1.19921603e-01,\n",
       "         8.29165941e-04,  7.71792629e-02,  7.00863391e-02,\n",
       "        -1.31754501e-02, -2.53290068e-02]])"
      ]
     },
     "execution_count": 39,
     "metadata": {},
     "output_type": "execute_result"
    }
   ],
   "source": [
    "# Let's explore\n",
    "model.cluster_centers_"
   ]
  },
  {
   "cell_type": "markdown",
   "metadata": {},
   "source": [
    "#### Note! \n",
    "\n",
    "You may have different cluster centers - the algorithm is sensitive to starting points.\n",
    "\n",
    "Even if we set `n_init` to a significant value, it's still a good idea to use `random_state` to ensure repeatable results."
   ]
  },
  {
   "cell_type": "markdown",
   "metadata": {
    "slideshow": {
     "slide_type": "slide"
    }
   },
   "source": [
    "### Choosing the appropriate number for $k$\n",
    "\n",
    "#### Two metrics we can use: **elbow method** and the **silhouette coefficient**"
   ]
  },
  {
   "cell_type": "markdown",
   "metadata": {
    "slideshow": {
     "slide_type": "slide"
    }
   },
   "source": [
    "#### Elbow Method\n",
    "\n",
    "Elbow method uses the sum of squared error (SSE) calculated from each instance of $k$ to find the best value of $k$.\n",
    "\n",
    "This is sometimes called the \"inertia\" of the model, and fitted sklearn $k$-means models have an `inertia_` attribute.\n",
    "\n",
    "Sometimes you will see the SSE divided by the total sum of squares in the dataset (how far is each point from the center of the entire dataset)\n",
    "\n",
    "Fewer clusters seems better, but inertia will always decrease with _more_ clusters. Hence the idea of looking for an elbow in the plot of inertia vs. $k$."
   ]
  },
  {
   "cell_type": "code",
   "execution_count": 40,
   "metadata": {
    "scrolled": true
   },
   "outputs": [
    {
     "data": {
      "text/plain": [
       "365203.24974170775"
      ]
     },
     "execution_count": 40,
     "metadata": {},
     "output_type": "execute_result"
    }
   ],
   "source": [
    "model.inertia_"
   ]
  },
  {
   "cell_type": "markdown",
   "metadata": {},
   "source": [
    "Inertia is the sum of squared distances between points and their cluster center."
   ]
  },
  {
   "cell_type": "code",
   "execution_count": 41,
   "metadata": {
    "slideshow": {
     "slide_type": "slide"
    }
   },
   "outputs": [
    {
     "data": {
      "image/png": "[encoded data removed]",
      "text/plain": [
       "<Figure size 720x576 with 1 Axes>"
      ]
     },
     "metadata": {
      "needs_background": "light"
     },
     "output_type": "display_data"
    }
   ],
   "source": [
    "# Specifying the dataset and initializing variables\n",
    "distortions = []\n",
    "\n",
    "# Calculate SSE for different K\n",
    "for k in range(2, 13):\n",
    "    kmeans = KMeans(n_clusters=k, random_state=301)\n",
    "    kmeans.fit(df_pca)\n",
    "    distortions.append(kmeans.inertia_)\n",
    "\n",
    "# Plot values of SSE\n",
    "fig, ax = plt.subplots(figsize=(10, 8))\n",
    "ax.set_title('Elbow curve')\n",
    "ax.set_xlabel('k')\n",
    "ax.plot(range(2, 13), distortions)\n",
    "ax.grid(True)"
   ]
  },
  {
   "cell_type": "code",
   "execution_count": 42,
   "metadata": {},
   "outputs": [
    {
     "data": {
      "image/png": "[encoded data removed]",
      "text/plain": [
       "<Figure size 576x396 with 2 Axes>"
      ]
     },
     "metadata": {},
     "output_type": "display_data"
    }
   ],
   "source": [
    "# If yellowbrick works for you...\n",
    "# https://www.scikit-yb.org/en/latest/api/cluster/elbow.html\n",
    "from yellowbrick.cluster import KElbowVisualizer\n",
    "\n",
    "# Instantiate the clustering model and visualizer\n",
    "model = KMeans()\n",
    "\n",
    "visualizer = KElbowVisualizer(model, k=(2,12), timings=True)\n",
    "\n",
    "visualizer.fit(df_pca)        # Fit the data to the visualizer\n",
    "visualizer.show()  \n",
    "plt.show()"
   ]
  },
  {
   "cell_type": "markdown",
   "metadata": {
    "slideshow": {
     "slide_type": "slide"
    }
   },
   "source": [
    "#### Silhouette Coefficient\n",
    "\n",
    "![silo](images/silo2.png)\n",
    "\n",
    "> **a** refers to the average distance between a point and all other points in that cluster.\n",
    ">\n",
    "> **b** refers to the average distance between that same point and all other points in clusters to which it does not belong\n",
    "\n",
    "It is calculated for each point in the dataset, then averaged across all points for one cumulative score.\n",
    "\n",
    "The Silhouette Coefficient ranges between -1 and 1. The closer to 1, the more clearly defined are the clusters. The closer to -1, the more incorrect assignment.\n",
    "\n",
    "https://scikit-learn.org/stable/modules/generated/sklearn.metrics.silhouette_score.html\n",
    "\n"
   ]
  },
  {
   "cell_type": "code",
   "execution_count": 43,
   "metadata": {},
   "outputs": [],
   "source": [
    "labels = model.labels_"
   ]
  },
  {
   "cell_type": "code",
   "execution_count": 44,
   "metadata": {
    "scrolled": true
   },
   "outputs": [
    {
     "data": {
      "text/plain": [
       "0.29932197386118525"
      ]
     },
     "execution_count": 44,
     "metadata": {},
     "output_type": "execute_result"
    }
   ],
   "source": [
    "silhouette_score(df_pca, labels)"
   ]
  },
  {
   "cell_type": "code",
   "execution_count": 45,
   "metadata": {},
   "outputs": [],
   "source": [
    "silhouette_scores = {}\n",
    "\n",
    "for k in range(2, 10):\n",
    "    kmeans = KMeans(n_clusters=k, random_state=301)\n",
    "    kmeans.fit(df_pca)\n",
    "    labels = kmeans.labels_\n",
    "    silhouette_scores[k] = silhouette_score(df_pca, labels)"
   ]
  },
  {
   "cell_type": "code",
   "execution_count": 46,
   "metadata": {
    "scrolled": false
   },
   "outputs": [
    {
     "data": {
      "text/plain": [
       "{2: 0.24270529902942398,\n",
       " 3: 0.2978285341301001,\n",
       " 4: 0.2776929096494598,\n",
       " 5: 0.2961762895226931,\n",
       " 6: 0.3377014550317026,\n",
       " 7: 0.3485617343049777,\n",
       " 8: 0.3227089488061349,\n",
       " 9: 0.3222240036022461}"
      ]
     },
     "execution_count": 46,
     "metadata": {},
     "output_type": "execute_result"
    }
   ],
   "source": [
    "silhouette_scores"
   ]
  },
  {
   "cell_type": "markdown",
   "metadata": {},
   "source": [
    "### So - How Many Clusters?\n",
    "\n",
    "- It depends. There are no right answers, but there are better answers than others\n"
   ]
  },
  {
   "cell_type": "markdown",
   "metadata": {},
   "source": [
    "### There's Also Hierarchical Clustering\n",
    "\n",
    "Hierarchical clustering determines cluster assignments by building a hierarchy. This is implemented by either a bottom-up or a top-down approach:\n",
    "\n",
    "- **Agglomerative clustering** is the bottom-up approach. It merges the two points that are the most similar until all points have been merged into a single cluster.\n",
    "- **Divisive clustering** is the top-down approach. It starts with all points as one cluster and splits the least similar clusters at each step until only single data points remain.\n",
    "\n",
    "These methods produce a tree-based hierarchy of points called a **dendrogram**. Similar to partitional clustering, in hierarchical clustering the number of clusters (k) is often predetermined by the user. Clusters are assigned by cutting the dendrogram at a specified depth that results in k groups of smaller dendrograms.\n",
    "\n",
    "![dendro](images/dendogram.png)\n",
    "\n",
    "**Unlike many partitional clustering techniques, hierarchical clustering is a deterministic process, meaning cluster assignments won’t change when you run an algorithm twice on the same input data.**\n",
    "\n",
    "The **strengths** of hierarchical clustering methods include:\n",
    "\n",
    "- They often reveal the finer details about the relationships between data objects\n",
    "- They provide an interpretable dendrogram\n",
    "\n",
    "The **weaknesses** of hierarchical clustering methods include:\n",
    "\n",
    "- They’re computationally expensive with respect to algorithm complexity\n",
    "- They’re sensitive to noise and outliers"
   ]
  },
  {
   "cell_type": "markdown",
   "metadata": {},
   "source": [
    "From sklearn's documentation: https://scikit-learn.org/stable/auto_examples/cluster/plot_agglomerative_dendrogram.html"
   ]
  },
  {
   "cell_type": "code",
   "execution_count": 47,
   "metadata": {},
   "outputs": [
    {
     "data": {
      "image/png": "[encoded data removed]",
      "text/plain": [
       "<Figure size 576x396 with 1 Axes>"
      ]
     },
     "metadata": {},
     "output_type": "display_data"
    }
   ],
   "source": [
    "def plot_dendrogram(model, **kwargs):\n",
    "    \"\"\" Create linkage matrix and then plot the dendrogram\"\"\"\n",
    "\n",
    "    # create the counts of samples under each node\n",
    "    counts = np.zeros(model.children_.shape[0])\n",
    "    n_samples = len(model.labels_)\n",
    "    for i, merge in enumerate(model.children_):\n",
    "        current_count = 0\n",
    "        for child_idx in merge:\n",
    "            if child_idx < n_samples:\n",
    "                current_count += 1  # leaf node\n",
    "            else:\n",
    "                current_count += counts[child_idx - n_samples]\n",
    "        counts[i] = current_count\n",
    "\n",
    "    linkage_matrix = np.column_stack([model.children_, model.distances_,\n",
    "                                      counts]).astype(float)\n",
    "\n",
    "    # Plot the corresponding dendrogram\n",
    "    dendrogram(linkage_matrix, **kwargs)\n",
    "\n",
    "\n",
    "# setting distance_threshold=0 ensures we compute the full tree.\n",
    "model = AgglomerativeClustering(distance_threshold=0, n_clusters=None)\n",
    "\n",
    "model = model.fit(df_pca)\n",
    "plt.title('Hierarchical Clustering Dendrogram')\n",
    "# plot the top three levels of the dendrogram\n",
    "plot_dendrogram(model, truncate_mode='level', p=3)\n",
    "plt.xlabel(\"Number of points in node (or index of point if no parenthesis).\")\n",
    "plt.show()"
   ]
  },
  {
   "cell_type": "markdown",
   "metadata": {},
   "source": [
    "-----\n",
    "\n",
    "## 3) Manipulating Time Series Data"
   ]
  },
  {
   "cell_type": "markdown",
   "metadata": {},
   "source": [
    "### Data Set Up\n",
    "\n",
    "Airline Passenger Data: https://www.kaggle.com/rakannimer/air-passengers\n",
    "\n",
    "(it's a pretty common dataset, available in several different places, but here's a source)"
   ]
  },
  {
   "cell_type": "code",
   "execution_count": 48,
   "metadata": {},
   "outputs": [],
   "source": [
    "# Imports round 5\n",
    "from statsmodels.tsa.stattools import adfuller\n",
    "\n",
    "from pmdarima.utils import decomposed_plot\n",
    "from pmdarima.arima import decompose"
   ]
  },
  {
   "cell_type": "code",
   "execution_count": 49,
   "metadata": {},
   "outputs": [],
   "source": [
    "# If you want to install pmdarima (plus a link to the documentation)\n",
    "# http://alkaline-ml.com/pmdarima/\n",
    "# !pip install pmdarima"
   ]
  },
  {
   "cell_type": "code",
   "execution_count": 50,
   "metadata": {},
   "outputs": [],
   "source": [
    "# Read df\n",
    "air_df = pd.read_csv('data/airline_passengers.csv')"
   ]
  },
  {
   "cell_type": "code",
   "execution_count": 51,
   "metadata": {},
   "outputs": [
    {
     "data": {
      "text/plain": [
       "(144, 2)"
      ]
     },
     "execution_count": 51,
     "metadata": {},
     "output_type": "execute_result"
    }
   ],
   "source": [
    "# Check the shape of the data\n",
    "air_df.shape"
   ]
  },
  {
   "cell_type": "code",
   "execution_count": 52,
   "metadata": {},
   "outputs": [
    {
     "data": {
      "text/html": [
       "<div>\n",
       "<style scoped>\n",
       "    .dataframe tbody tr th:only-of-type {\n",
       "        vertical-align: middle;\n",
       "    }\n",
       "\n",
       "    .dataframe tbody tr th {\n",
       "        vertical-align: top;\n",
       "    }\n",
       "\n",
       "    .dataframe thead th {\n",
       "        text-align: right;\n",
       "    }\n",
       "</style>\n",
       "<table border=\"1\" class=\"dataframe\">\n",
       "  <thead>\n",
       "    <tr style=\"text-align: right;\">\n",
       "      <th></th>\n",
       "      <th>Month</th>\n",
       "      <th>Thousands of Passengers</th>\n",
       "    </tr>\n",
       "  </thead>\n",
       "  <tbody>\n",
       "    <tr>\n",
       "      <th>0</th>\n",
       "      <td>1949-01</td>\n",
       "      <td>112</td>\n",
       "    </tr>\n",
       "    <tr>\n",
       "      <th>1</th>\n",
       "      <td>1949-02</td>\n",
       "      <td>118</td>\n",
       "    </tr>\n",
       "    <tr>\n",
       "      <th>2</th>\n",
       "      <td>1949-03</td>\n",
       "      <td>132</td>\n",
       "    </tr>\n",
       "    <tr>\n",
       "      <th>3</th>\n",
       "      <td>1949-04</td>\n",
       "      <td>129</td>\n",
       "    </tr>\n",
       "    <tr>\n",
       "      <th>4</th>\n",
       "      <td>1949-05</td>\n",
       "      <td>121</td>\n",
       "    </tr>\n",
       "    <tr>\n",
       "      <th>5</th>\n",
       "      <td>1949-06</td>\n",
       "      <td>135</td>\n",
       "    </tr>\n",
       "    <tr>\n",
       "      <th>6</th>\n",
       "      <td>1949-07</td>\n",
       "      <td>148</td>\n",
       "    </tr>\n",
       "    <tr>\n",
       "      <th>7</th>\n",
       "      <td>1949-08</td>\n",
       "      <td>148</td>\n",
       "    </tr>\n",
       "    <tr>\n",
       "      <th>8</th>\n",
       "      <td>1949-09</td>\n",
       "      <td>136</td>\n",
       "    </tr>\n",
       "    <tr>\n",
       "      <th>9</th>\n",
       "      <td>1949-10</td>\n",
       "      <td>119</td>\n",
       "    </tr>\n",
       "  </tbody>\n",
       "</table>\n",
       "</div>"
      ],
      "text/plain": [
       "     Month  Thousands of Passengers\n",
       "0  1949-01                      112\n",
       "1  1949-02                      118\n",
       "2  1949-03                      132\n",
       "3  1949-04                      129\n",
       "4  1949-05                      121\n",
       "5  1949-06                      135\n",
       "6  1949-07                      148\n",
       "7  1949-08                      148\n",
       "8  1949-09                      136\n",
       "9  1949-10                      119"
      ]
     },
     "execution_count": 52,
     "metadata": {},
     "output_type": "execute_result"
    }
   ],
   "source": [
    "# Check the first 10 rows...\n",
    "air_df.head(10)"
   ]
  },
  {
   "cell_type": "code",
   "execution_count": 53,
   "metadata": {},
   "outputs": [],
   "source": [
    "# Let's go ahead and set the index to be a datetime index\n",
    "# First making it a datetime object\n",
    "air_df['Month'] = pd.to_datetime(air_df['Month'])\n",
    "\n",
    "# Now making it our index\n",
    "air_df.set_index('Month', inplace=True)"
   ]
  },
  {
   "cell_type": "code",
   "execution_count": 54,
   "metadata": {
    "scrolled": true
   },
   "outputs": [
    {
     "data": {
      "text/html": [
       "<div>\n",
       "<style scoped>\n",
       "    .dataframe tbody tr th:only-of-type {\n",
       "        vertical-align: middle;\n",
       "    }\n",
       "\n",
       "    .dataframe tbody tr th {\n",
       "        vertical-align: top;\n",
       "    }\n",
       "\n",
       "    .dataframe thead th {\n",
       "        text-align: right;\n",
       "    }\n",
       "</style>\n",
       "<table border=\"1\" class=\"dataframe\">\n",
       "  <thead>\n",
       "    <tr style=\"text-align: right;\">\n",
       "      <th></th>\n",
       "      <th>Thousands of Passengers</th>\n",
       "    </tr>\n",
       "    <tr>\n",
       "      <th>Month</th>\n",
       "      <th></th>\n",
       "    </tr>\n",
       "  </thead>\n",
       "  <tbody>\n",
       "    <tr>\n",
       "      <th>1949-01-01</th>\n",
       "      <td>112</td>\n",
       "    </tr>\n",
       "    <tr>\n",
       "      <th>1949-02-01</th>\n",
       "      <td>118</td>\n",
       "    </tr>\n",
       "    <tr>\n",
       "      <th>1949-03-01</th>\n",
       "      <td>132</td>\n",
       "    </tr>\n",
       "    <tr>\n",
       "      <th>1949-04-01</th>\n",
       "      <td>129</td>\n",
       "    </tr>\n",
       "    <tr>\n",
       "      <th>1949-05-01</th>\n",
       "      <td>121</td>\n",
       "    </tr>\n",
       "  </tbody>\n",
       "</table>\n",
       "</div>"
      ],
      "text/plain": [
       "            Thousands of Passengers\n",
       "Month                              \n",
       "1949-01-01                      112\n",
       "1949-02-01                      118\n",
       "1949-03-01                      132\n",
       "1949-04-01                      129\n",
       "1949-05-01                      121"
      ]
     },
     "execution_count": 54,
     "metadata": {},
     "output_type": "execute_result"
    }
   ],
   "source": [
    "# Now let's look at how that impacted the time/index\n",
    "air_df.head()"
   ]
  },
  {
   "cell_type": "code",
   "execution_count": 55,
   "metadata": {},
   "outputs": [
    {
     "data": {
      "text/html": [
       "<div>\n",
       "<style scoped>\n",
       "    .dataframe tbody tr th:only-of-type {\n",
       "        vertical-align: middle;\n",
       "    }\n",
       "\n",
       "    .dataframe tbody tr th {\n",
       "        vertical-align: top;\n",
       "    }\n",
       "\n",
       "    .dataframe thead th {\n",
       "        text-align: right;\n",
       "    }\n",
       "</style>\n",
       "<table border=\"1\" class=\"dataframe\">\n",
       "  <thead>\n",
       "    <tr style=\"text-align: right;\">\n",
       "      <th></th>\n",
       "      <th>Thousands of Passengers</th>\n",
       "    </tr>\n",
       "    <tr>\n",
       "      <th>Month</th>\n",
       "      <th></th>\n",
       "    </tr>\n",
       "  </thead>\n",
       "  <tbody>\n",
       "    <tr>\n",
       "      <th>1960-08-01</th>\n",
       "      <td>606</td>\n",
       "    </tr>\n",
       "    <tr>\n",
       "      <th>1960-09-01</th>\n",
       "      <td>508</td>\n",
       "    </tr>\n",
       "    <tr>\n",
       "      <th>1960-10-01</th>\n",
       "      <td>461</td>\n",
       "    </tr>\n",
       "    <tr>\n",
       "      <th>1960-11-01</th>\n",
       "      <td>390</td>\n",
       "    </tr>\n",
       "    <tr>\n",
       "      <th>1960-12-01</th>\n",
       "      <td>432</td>\n",
       "    </tr>\n",
       "  </tbody>\n",
       "</table>\n",
       "</div>"
      ],
      "text/plain": [
       "            Thousands of Passengers\n",
       "Month                              \n",
       "1960-08-01                      606\n",
       "1960-09-01                      508\n",
       "1960-10-01                      461\n",
       "1960-11-01                      390\n",
       "1960-12-01                      432"
      ]
     },
     "execution_count": 55,
     "metadata": {},
     "output_type": "execute_result"
    }
   ],
   "source": [
    "air_df.tail()"
   ]
  },
  {
   "cell_type": "code",
   "execution_count": 56,
   "metadata": {
    "scrolled": false
   },
   "outputs": [
    {
     "data": {
      "image/png": "[encoded data removed]",
      "text/plain": [
       "<Figure size 1152x432 with 1 Axes>"
      ]
     },
     "metadata": {},
     "output_type": "display_data"
    }
   ],
   "source": [
    "# Let's get a sense of the data\n",
    "plt.figure(figsize=(16,6))\n",
    "air_df['Thousands of Passengers'].plot()\n",
    "plt.title('Thousands of Passengers')\n",
    "plt.show()"
   ]
  },
  {
   "cell_type": "markdown",
   "metadata": {},
   "source": [
    "Now we can see the general trends in our data.\n",
    "\n",
    "Also! This is why we change our data to use the datetime object as the index - makes EVERYTHING easier!"
   ]
  },
  {
   "cell_type": "markdown",
   "metadata": {},
   "source": [
    "## Changing the frequency of our data \n",
    "\n",
    "Also called downsampling or upsampling, depending on whether you're going to a less frequent or more frequent point in time.\n",
    "\n",
    "[Here](https://pandas.pydata.org/pandas-docs/stable/user_guide/timeseries.html#resampling) is a reference for resampling based on time frequency. (you can find the actual codes you can use as arguments in the resample function [here](https://pandas.pydata.org/pandas-docs/stable/user_guide/timeseries.html#dateoffset-objects))."
   ]
  },
  {
   "cell_type": "code",
   "execution_count": 57,
   "metadata": {},
   "outputs": [],
   "source": [
    "# Upsampling to a daily cadence\n",
    "df_daily = air_df.resample('D').mean()"
   ]
  },
  {
   "cell_type": "code",
   "execution_count": 58,
   "metadata": {},
   "outputs": [
    {
     "data": {
      "text/html": [
       "<div>\n",
       "<style scoped>\n",
       "    .dataframe tbody tr th:only-of-type {\n",
       "        vertical-align: middle;\n",
       "    }\n",
       "\n",
       "    .dataframe tbody tr th {\n",
       "        vertical-align: top;\n",
       "    }\n",
       "\n",
       "    .dataframe thead th {\n",
       "        text-align: right;\n",
       "    }\n",
       "</style>\n",
       "<table border=\"1\" class=\"dataframe\">\n",
       "  <thead>\n",
       "    <tr style=\"text-align: right;\">\n",
       "      <th></th>\n",
       "      <th>Thousands of Passengers</th>\n",
       "    </tr>\n",
       "    <tr>\n",
       "      <th>Month</th>\n",
       "      <th></th>\n",
       "    </tr>\n",
       "  </thead>\n",
       "  <tbody>\n",
       "    <tr>\n",
       "      <th>1949-01-01</th>\n",
       "      <td>112.0</td>\n",
       "    </tr>\n",
       "    <tr>\n",
       "      <th>1949-01-02</th>\n",
       "      <td>NaN</td>\n",
       "    </tr>\n",
       "    <tr>\n",
       "      <th>1949-01-03</th>\n",
       "      <td>NaN</td>\n",
       "    </tr>\n",
       "    <tr>\n",
       "      <th>1949-01-04</th>\n",
       "      <td>NaN</td>\n",
       "    </tr>\n",
       "    <tr>\n",
       "      <th>1949-01-05</th>\n",
       "      <td>NaN</td>\n",
       "    </tr>\n",
       "  </tbody>\n",
       "</table>\n",
       "</div>"
      ],
      "text/plain": [
       "            Thousands of Passengers\n",
       "Month                              \n",
       "1949-01-01                    112.0\n",
       "1949-01-02                      NaN\n",
       "1949-01-03                      NaN\n",
       "1949-01-04                      NaN\n",
       "1949-01-05                      NaN"
      ]
     },
     "execution_count": 58,
     "metadata": {},
     "output_type": "execute_result"
    }
   ],
   "source": [
    "df_daily.head()"
   ]
  },
  {
   "cell_type": "code",
   "execution_count": 59,
   "metadata": {},
   "outputs": [
    {
     "data": {
      "text/plain": [
       "Thousands of Passengers    4209\n",
       "dtype: int64"
      ]
     },
     "execution_count": 59,
     "metadata": {},
     "output_type": "execute_result"
    }
   ],
   "source": [
    "# Ew - nulls!\n",
    "df_daily.isna().sum()"
   ]
  },
  {
   "cell_type": "markdown",
   "metadata": {},
   "source": [
    "Of course we have nulls though - we took monthly data and tried to make it daily!\n",
    "\n",
    "But what about downsampling to quarterly?"
   ]
  },
  {
   "cell_type": "code",
   "execution_count": 60,
   "metadata": {},
   "outputs": [
    {
     "data": {
      "text/html": [
       "<div>\n",
       "<style scoped>\n",
       "    .dataframe tbody tr th:only-of-type {\n",
       "        vertical-align: middle;\n",
       "    }\n",
       "\n",
       "    .dataframe tbody tr th {\n",
       "        vertical-align: top;\n",
       "    }\n",
       "\n",
       "    .dataframe thead th {\n",
       "        text-align: right;\n",
       "    }\n",
       "</style>\n",
       "<table border=\"1\" class=\"dataframe\">\n",
       "  <thead>\n",
       "    <tr style=\"text-align: right;\">\n",
       "      <th></th>\n",
       "      <th>Thousands of Passengers</th>\n",
       "    </tr>\n",
       "    <tr>\n",
       "      <th>Month</th>\n",
       "      <th></th>\n",
       "    </tr>\n",
       "  </thead>\n",
       "  <tbody>\n",
       "    <tr>\n",
       "      <th>1949-03-31</th>\n",
       "      <td>120.666667</td>\n",
       "    </tr>\n",
       "    <tr>\n",
       "      <th>1949-06-30</th>\n",
       "      <td>128.333333</td>\n",
       "    </tr>\n",
       "    <tr>\n",
       "      <th>1949-09-30</th>\n",
       "      <td>144.000000</td>\n",
       "    </tr>\n",
       "    <tr>\n",
       "      <th>1949-12-31</th>\n",
       "      <td>113.666667</td>\n",
       "    </tr>\n",
       "    <tr>\n",
       "      <th>1950-03-31</th>\n",
       "      <td>127.333333</td>\n",
       "    </tr>\n",
       "  </tbody>\n",
       "</table>\n",
       "</div>"
      ],
      "text/plain": [
       "            Thousands of Passengers\n",
       "Month                              \n",
       "1949-03-31               120.666667\n",
       "1949-06-30               128.333333\n",
       "1949-09-30               144.000000\n",
       "1949-12-31               113.666667\n",
       "1950-03-31               127.333333"
      ]
     },
     "execution_count": 60,
     "metadata": {},
     "output_type": "execute_result"
    }
   ],
   "source": [
    "# Here we're downsampling to quarter\n",
    "# Note that there are a few different ways to define 'quarter'\n",
    "df_quarterly = air_df.resample('Q').mean()\n",
    "df_quarterly.head()"
   ]
  },
  {
   "cell_type": "code",
   "execution_count": 61,
   "metadata": {},
   "outputs": [
    {
     "data": {
      "image/png": "[encoded data removed]",
      "text/plain": [
       "<Figure size 1152x432 with 1 Axes>"
      ]
     },
     "metadata": {},
     "output_type": "display_data"
    }
   ],
   "source": [
    "# Again, visualizing the Average Opening price\n",
    "plt.figure(figsize=(16,6))\n",
    "df_quarterly['Thousands of Passengers'].plot()\n",
    "plt.title('Thousands of Passengers - Quarterly')\n",
    "plt.show()"
   ]
  },
  {
   "cell_type": "markdown",
   "metadata": {},
   "source": [
    "So, as would make sense, as you change the frequency of your data it changes the granularity (level of detail) that's conveyed."
   ]
  },
  {
   "cell_type": "markdown",
   "metadata": {},
   "source": [
    "### Stationarity\n",
    "\n",
    "Introduction to stationarity from [_Forecasting: Principles and Practice_](https://otexts.com/fpp2/stationarity.html):\n",
    "\n",
    "> \"A stationary time series is one whose properties do not depend on the time at which the series is observed.14 Thus, time series with trends, or with seasonality, are not stationary — the trend and seasonality will affect the value of the time series at different times. On the other hand, a white noise series is stationary — it does not matter when you observe it, it should look much the same at any point in time.\n",
    ">\n",
    "> \"Some cases can be confusing — a time series with cyclic behaviour (but with no trend or seasonality) is stationary. This is because the cycles are not of a fixed length, so before we observe the series we cannot be sure where the peaks and troughs of the cycles will be.\n",
    ">\n",
    "> \"In general, a stationary time series will have no predictable patterns in the long-term. Time plots will show the series to be roughly horizontal (although some cyclic behaviour is possible), with constant variance.\"\n",
    "\n",
    "And here's a [useful blog post](https://towardsdatascience.com/stationarity-in-time-series-analysis-90c94f27322) on the subject, where I found the below demonstrative image:\n",
    "\n",
    "![Examples of stationary and non-stationary processes, from the above medium blog](https://miro.medium.com/max/1400/1*tkx0_wwQ2JT7pSlTeg4yzg.png)"
   ]
  },
  {
   "cell_type": "markdown",
   "metadata": {},
   "source": [
    "#### Why do we want to get a stationary series?\n",
    "\n",
    "> \"Stationarity means that the statistical properties of a time series (or rather the process generating it) do not change over time.\"\n",
    "\n",
    "- [Source](https://towardsdatascience.com/stationarity-in-time-series-analysis-90c94f27322)\n",
    "\n",
    "Biggest reason: makes the data easier to model!"
   ]
  },
  {
   "cell_type": "code",
   "execution_count": 62,
   "metadata": {},
   "outputs": [],
   "source": [
    "# Let's  get the rolling mean and rolling standard deviation, using a 12-month window\n",
    "\n",
    "roll_mean = air_df['Thousands of Passengers'].rolling(window=12, center=False).mean()\n",
    "roll_std = air_df['Thousands of Passengers'].rolling(window=12, center=False).std()"
   ]
  },
  {
   "cell_type": "code",
   "execution_count": 63,
   "metadata": {},
   "outputs": [
    {
     "data": {
      "image/png": "[encoded data removed]",
      "text/plain": [
       "<Figure size 936x432 with 1 Axes>"
      ]
     },
     "metadata": {},
     "output_type": "display_data"
    }
   ],
   "source": [
    "fig, ax = plt.subplots(figsize=(13, 6))\n",
    "ax.plot(air_df['Thousands of Passengers'], color='blue',\n",
    "        label='Average Monthly Number of Passengers (Thousands)')\n",
    "\n",
    "ax.plot(roll_mean, color='red', label='Rolling 3-Month Mean')\n",
    "\n",
    "ax.plot(roll_mean + roll_std, color='black', linestyle='dotted')\n",
    "ax.plot(roll_mean - roll_std, color='black', linestyle='dotted')\n",
    "\n",
    "ax.legend()\n",
    "fig.tight_layout()"
   ]
  },
  {
   "cell_type": "markdown",
   "metadata": {},
   "source": [
    "Do you think this data is stationary? Why or why not?\n",
    "\n",
    " - \n",
    " "
   ]
  },
  {
   "cell_type": "markdown",
   "metadata": {},
   "source": [
    "There's a test for this!\n",
    "\n",
    "> **Augumented Dickey-Fuller test**: a hypothesis test, where we reject the null hypothesis (that a time series is non-stationary) if the test-statistic is less than the critical value\n",
    "\n",
    "[Documentation](https://www.statsmodels.org/stable/generated/statsmodels.tsa.stattools.adfuller.html) for the Dickey-Fuller test in StatsModels"
   ]
  },
  {
   "cell_type": "markdown",
   "metadata": {},
   "source": [
    "So let's write out our null and alternative hypotheses (remember these??):\n",
    "\n",
    "Ho = \n",
    "\n",
    "Ha = "
   ]
  },
  {
   "cell_type": "code",
   "execution_count": 64,
   "metadata": {},
   "outputs": [
    {
     "data": {
      "text/plain": [
       "(0.815368879206047,\n",
       " 0.991880243437641,\n",
       " 13,\n",
       " 130,\n",
       " {'1%': -3.4816817173418295,\n",
       "  '5%': -2.8840418343195267,\n",
       "  '10%': -2.578770059171598},\n",
       " 996.6929308390189)"
      ]
     },
     "execution_count": 64,
     "metadata": {},
     "output_type": "execute_result"
    }
   ],
   "source": [
    "# Feed in our column, since the test function expects a series:\n",
    "adfuller(air_df['Thousands of Passengers'])"
   ]
  },
  {
   "cell_type": "markdown",
   "metadata": {},
   "source": [
    "Let's interpret the output of this test:\n",
    "\n",
    "- \n"
   ]
  },
  {
   "cell_type": "code",
   "execution_count": 65,
   "metadata": {},
   "outputs": [],
   "source": [
    "# Now that we've determined whether the data is stationary, let's decompose it\n",
    "\n",
    "# Using the decompose function from pmdarima\n",
    "# Need to feed it an array, hence the .values attribute\n",
    "decomposed = decompose(air_df['Thousands of Passengers'].values, 'multiplicative', m=12)\n",
    "\n",
    "# M? See this: https://alkaline-ml.com/pmdarima/tips_and_tricks.html#period"
   ]
  },
  {
   "cell_type": "code",
   "execution_count": 66,
   "metadata": {},
   "outputs": [
    {
     "data": {
      "image/png": "[encoded data removed]",
      "text/plain": [
       "<Figure size 1152x720 with 4 Axes>"
      ]
     },
     "metadata": {},
     "output_type": "display_data"
    }
   ],
   "source": [
    "# Plotting the pieces using the arima model again\n",
    "decomposed_plot(decomposed, figure_kwargs={'figsize': (16, 10)})\n",
    "plt.show()"
   ]
  },
  {
   "cell_type": "markdown",
   "metadata": {},
   "source": [
    "From the documentation for `pmdarima`'s decompose:: \n",
    "\n",
    "> So what is happening when we call `decomposed`?\n",
    "> 1) The trend is extracted from the signal via a convolution using either a\n",
    "   SMA or a user-defined filter.\n",
    ">   \n",
    "> 2) We remove the effects of the trend from the original signal by either\n",
    "   subtracting its effects or dividing out its effects for 'additive' or\n",
    "   'multiplicative' types of decompositions, respectively. We then take the\n",
    "   mean across all seasons to get the values for a single season. For m=4, we\n",
    "   expect 4 values for a single season.\n",
    ">\n",
    "> 3) We then create the seasonal series by replicating the single season\n",
    "   until it is the same length of the trend signal.\n",
    ">\n",
    "> 4) Lastly to get the random/noise elements of the signal we remove the effects\n",
    "   of both the trend and seasonal series and we are now left with the\n",
    "   variation of the original signal that is neither explainable by seasonal\n",
    "   nor trend effects.\n",
    ">\n",
    "> This logic produces a named tuple of the original signal, trend, seasonal, and random components. It is this named tuple that is passed to `decomposed_plot`"
   ]
  },
  {
   "cell_type": "markdown",
   "metadata": {},
   "source": [
    "#### Additive vs Multiplicative?\n",
    "\n",
    "It's in the trends of the plots: \n",
    "\n",
    "| Additive Example | Multiplicative Example |\n",
    "| ---------------- | ---------------------- |\n",
    "| ![from the pmdarima documentation: additive example](images/sphx_glr_example_seasonal_decomposition_001.png) | ![from the pmdarima documentation: multiplicative example](images/sphx_glr_example_seasonal_decomposition_002.png) |\n",
    "\n",
    "[Source](https://alkaline-ml.com/pmdarima/auto_examples/arima/example_seasonal_decomposition.html)\n",
    "\n",
    "Can you spot the difference?"
   ]
  }
 ],
 "metadata": {
  "kernelspec": {
   "display_name": "Python 3",
   "language": "python",
   "name": "python3"
  },
  "language_info": {
   "codemirror_mode": {
    "name": "ipython",
    "version": 3
   },
   "file_extension": ".py",
   "mimetype": "text/x-python",
   "name": "python",
   "nbconvert_exporter": "python",
   "pygments_lexer": "ipython3",
   "version": "3.8.5"
  },
  "toc": {
   "base_numbering": 1,
   "nav_menu": {},
   "number_sections": false,
   "sideBar": true,
   "skip_h1_title": false,
   "title_cell": "Table of Contents",
   "title_sidebar": "Contents",
   "toc_cell": false,
   "toc_position": {},
   "toc_section_display": true,
   "toc_window_display": false
  }
 },
 "nbformat": 4,
 "nbformat_minor": 2
}
